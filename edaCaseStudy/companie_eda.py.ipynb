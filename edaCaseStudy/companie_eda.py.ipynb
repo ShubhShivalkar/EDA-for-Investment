{
 "cells": [
  {
   "cell_type": "markdown",
   "id": "af6316a9",
   "metadata": {},
   "source": [
    "## LIBRARIES"
   ]
  },
  {
   "cell_type": "code",
   "execution_count": 1,
   "id": "2c89a0c3",
   "metadata": {},
   "outputs": [],
   "source": [
    "import pandas as pd\n",
    "import seaborn as sns\n",
    "import matplotlib.pyplot as plt\n",
    "import numpy as np"
   ]
  },
  {
   "cell_type": "code",
   "execution_count": 2,
   "id": "9045e68a",
   "metadata": {},
   "outputs": [],
   "source": [
    "from sklearn.preprocessing import StandardScaler"
   ]
  },
  {
   "cell_type": "code",
   "execution_count": 3,
   "id": "baa780fe",
   "metadata": {},
   "outputs": [],
   "source": [
    "rounds_df = pd.read_csv('dataset/rounds2.csv', encoding = \"ISO-8859-1\")"
   ]
  },
  {
   "cell_type": "code",
   "execution_count": 4,
   "id": "b42169f8",
   "metadata": {},
   "outputs": [
    {
     "data": {
      "text/html": [
       "<div>\n",
       "<style scoped>\n",
       "    .dataframe tbody tr th:only-of-type {\n",
       "        vertical-align: middle;\n",
       "    }\n",
       "\n",
       "    .dataframe tbody tr th {\n",
       "        vertical-align: top;\n",
       "    }\n",
       "\n",
       "    .dataframe thead th {\n",
       "        text-align: right;\n",
       "    }\n",
       "</style>\n",
       "<table border=\"1\" class=\"dataframe\">\n",
       "  <thead>\n",
       "    <tr style=\"text-align: right;\">\n",
       "      <th></th>\n",
       "      <th>company_permalink</th>\n",
       "      <th>funding_round_permalink</th>\n",
       "      <th>funding_round_type</th>\n",
       "      <th>funding_round_code</th>\n",
       "      <th>funded_at</th>\n",
       "      <th>raised_amount_usd</th>\n",
       "    </tr>\n",
       "  </thead>\n",
       "  <tbody>\n",
       "    <tr>\n",
       "      <th>0</th>\n",
       "      <td>/organization/-fame</td>\n",
       "      <td>/funding-round/9a01d05418af9f794eebff7ace91f638</td>\n",
       "      <td>venture</td>\n",
       "      <td>B</td>\n",
       "      <td>05-01-2015</td>\n",
       "      <td>10000000.0</td>\n",
       "    </tr>\n",
       "    <tr>\n",
       "      <th>1</th>\n",
       "      <td>/ORGANIZATION/-QOUNTER</td>\n",
       "      <td>/funding-round/22dacff496eb7acb2b901dec1dfe5633</td>\n",
       "      <td>venture</td>\n",
       "      <td>A</td>\n",
       "      <td>14-10-2014</td>\n",
       "      <td>NaN</td>\n",
       "    </tr>\n",
       "    <tr>\n",
       "      <th>2</th>\n",
       "      <td>/organization/-qounter</td>\n",
       "      <td>/funding-round/b44fbb94153f6cdef13083530bb48030</td>\n",
       "      <td>seed</td>\n",
       "      <td>NaN</td>\n",
       "      <td>01-03-2014</td>\n",
       "      <td>700000.0</td>\n",
       "    </tr>\n",
       "    <tr>\n",
       "      <th>3</th>\n",
       "      <td>/ORGANIZATION/-THE-ONE-OF-THEM-INC-</td>\n",
       "      <td>/funding-round/650b8f704416801069bb178a1418776b</td>\n",
       "      <td>venture</td>\n",
       "      <td>B</td>\n",
       "      <td>30-01-2014</td>\n",
       "      <td>3406878.0</td>\n",
       "    </tr>\n",
       "    <tr>\n",
       "      <th>4</th>\n",
       "      <td>/organization/0-6-com</td>\n",
       "      <td>/funding-round/5727accaeaa57461bd22a9bdd945382d</td>\n",
       "      <td>venture</td>\n",
       "      <td>A</td>\n",
       "      <td>19-03-2008</td>\n",
       "      <td>2000000.0</td>\n",
       "    </tr>\n",
       "  </tbody>\n",
       "</table>\n",
       "</div>"
      ],
      "text/plain": [
       "                     company_permalink  \\\n",
       "0                  /organization/-fame   \n",
       "1               /ORGANIZATION/-QOUNTER   \n",
       "2               /organization/-qounter   \n",
       "3  /ORGANIZATION/-THE-ONE-OF-THEM-INC-   \n",
       "4                /organization/0-6-com   \n",
       "\n",
       "                           funding_round_permalink funding_round_type  \\\n",
       "0  /funding-round/9a01d05418af9f794eebff7ace91f638            venture   \n",
       "1  /funding-round/22dacff496eb7acb2b901dec1dfe5633            venture   \n",
       "2  /funding-round/b44fbb94153f6cdef13083530bb48030               seed   \n",
       "3  /funding-round/650b8f704416801069bb178a1418776b            venture   \n",
       "4  /funding-round/5727accaeaa57461bd22a9bdd945382d            venture   \n",
       "\n",
       "  funding_round_code   funded_at  raised_amount_usd  \n",
       "0                  B  05-01-2015         10000000.0  \n",
       "1                  A  14-10-2014                NaN  \n",
       "2                NaN  01-03-2014           700000.0  \n",
       "3                  B  30-01-2014          3406878.0  \n",
       "4                  A  19-03-2008          2000000.0  "
      ]
     },
     "execution_count": 4,
     "metadata": {},
     "output_type": "execute_result"
    }
   ],
   "source": [
    "rounds_df.head()"
   ]
  },
  {
   "cell_type": "code",
   "execution_count": 5,
   "id": "4a79c1a3",
   "metadata": {},
   "outputs": [
    {
     "data": {
      "text/plain": [
       "Index(['company_permalink', 'funding_round_permalink', 'funding_round_type',\n",
       "       'funding_round_code', 'funded_at', 'raised_amount_usd'],\n",
       "      dtype='object')"
      ]
     },
     "execution_count": 5,
     "metadata": {},
     "output_type": "execute_result"
    }
   ],
   "source": [
    "rounds_df.columns"
   ]
  },
  {
   "cell_type": "markdown",
   "id": "8830eefa",
   "metadata": {},
   "source": [
    "#CHECKING FOR NAN Values"
   ]
  },
  {
   "cell_type": "code",
   "execution_count": 6,
   "id": "f522ebd7",
   "metadata": {},
   "outputs": [
    {
     "data": {
      "text/plain": [
       "company_permalink              0\n",
       "funding_round_permalink        0\n",
       "funding_round_type             0\n",
       "funding_round_code         83809\n",
       "funded_at                      0\n",
       "raised_amount_usd          19990\n",
       "dtype: int64"
      ]
     },
     "execution_count": 6,
     "metadata": {},
     "output_type": "execute_result"
    }
   ],
   "source": [
    "rounds_df.isnull().sum()"
   ]
  },
  {
   "cell_type": "code",
   "execution_count": 7,
   "id": "ef99e63b",
   "metadata": {},
   "outputs": [],
   "source": [
    "rounds_df.drop(['funding_round_permalink',\n",
    "       'funding_round_code', 'funded_at'], axis = 1, inplace = True)"
   ]
  },
  {
   "cell_type": "raw",
   "id": "85130801",
   "metadata": {},
   "source": [
    "Removing columns with no significant purpose in analysis"
   ]
  },
  {
   "cell_type": "code",
   "execution_count": 8,
   "id": "8c7428d4",
   "metadata": {},
   "outputs": [],
   "source": [
    "rounds_df.company_permalink = rounds_df.company_permalink.str.lower()"
   ]
  },
  {
   "cell_type": "code",
   "execution_count": 9,
   "id": "7bd367b5",
   "metadata": {},
   "outputs": [
    {
     "data": {
      "text/plain": [
       "array(['venture', 'seed', 'undisclosed', 'equity_crowdfunding',\n",
       "       'convertible_note', 'private_equity', 'debt_financing', 'angel',\n",
       "       'grant', 'secondary_market', 'post_ipo_equity', 'post_ipo_debt',\n",
       "       'product_crowdfunding', 'non_equity_assistance'], dtype=object)"
      ]
     },
     "execution_count": 9,
     "metadata": {},
     "output_type": "execute_result"
    }
   ],
   "source": [
    "rounds_df.funding_round_type.unique()"
   ]
  },
  {
   "cell_type": "code",
   "execution_count": 10,
   "id": "a160f9e6",
   "metadata": {},
   "outputs": [
    {
     "data": {
      "text/plain": [
       "venture                  55494\n",
       "seed                     30524\n",
       "debt_financing            6895\n",
       "angel                     6094\n",
       "undisclosed               4897\n",
       "equity_crowdfunding       3257\n",
       "private_equity            2285\n",
       "grant                     2200\n",
       "convertible_note          1817\n",
       "post_ipo_equity            638\n",
       "product_crowdfunding       410\n",
       "non_equity_assistance      191\n",
       "post_ipo_debt              152\n",
       "secondary_market            95\n",
       "Name: funding_round_type, dtype: int64"
      ]
     },
     "execution_count": 10,
     "metadata": {},
     "output_type": "execute_result"
    }
   ],
   "source": [
    "rounds_df.funding_round_type.value_counts()"
   ]
  },
  {
   "cell_type": "raw",
   "id": "9f95bd6a",
   "metadata": {},
   "source": [
    "Unique funding rounds and their frequency "
   ]
  },
  {
   "cell_type": "code",
   "execution_count": 11,
   "id": "e6832fb5",
   "metadata": {},
   "outputs": [],
   "source": [
    "rounds_df.rename(columns = {\"company_permalink\" : \"permalink\"}, inplace = True)"
   ]
  },
  {
   "cell_type": "code",
   "execution_count": 12,
   "id": "75813aff",
   "metadata": {},
   "outputs": [
    {
     "data": {
      "text/plain": [
       "Index(['permalink', 'funding_round_type', 'raised_amount_usd'], dtype='object')"
      ]
     },
     "execution_count": 12,
     "metadata": {},
     "output_type": "execute_result"
    }
   ],
   "source": [
    "rounds_df.columns"
   ]
  },
  {
   "cell_type": "markdown",
   "id": "255b25b5",
   "metadata": {},
   "source": [
    "# END OF PART - I : Rounds Data cleaned and ready to be processed"
   ]
  },
  {
   "cell_type": "markdown",
   "id": "1f615b0f",
   "metadata": {},
   "source": [
    "# PART - II : Companies dataframe"
   ]
  },
  {
   "cell_type": "code",
   "execution_count": 13,
   "id": "88bc887f",
   "metadata": {},
   "outputs": [],
   "source": [
    "companies_df = pd.read_csv(\"dataset/companies.txt\", sep='\\t', engine = 'python')"
   ]
  },
  {
   "cell_type": "code",
   "execution_count": 14,
   "id": "a103c74d",
   "metadata": {},
   "outputs": [
    {
     "data": {
      "text/html": [
       "<div>\n",
       "<style scoped>\n",
       "    .dataframe tbody tr th:only-of-type {\n",
       "        vertical-align: middle;\n",
       "    }\n",
       "\n",
       "    .dataframe tbody tr th {\n",
       "        vertical-align: top;\n",
       "    }\n",
       "\n",
       "    .dataframe thead th {\n",
       "        text-align: right;\n",
       "    }\n",
       "</style>\n",
       "<table border=\"1\" class=\"dataframe\">\n",
       "  <thead>\n",
       "    <tr style=\"text-align: right;\">\n",
       "      <th></th>\n",
       "      <th>permalink</th>\n",
       "      <th>name</th>\n",
       "      <th>homepage_url</th>\n",
       "      <th>category_list</th>\n",
       "      <th>status</th>\n",
       "      <th>country_code</th>\n",
       "      <th>state_code</th>\n",
       "      <th>region</th>\n",
       "      <th>city</th>\n",
       "      <th>founded_at</th>\n",
       "    </tr>\n",
       "  </thead>\n",
       "  <tbody>\n",
       "    <tr>\n",
       "      <th>0</th>\n",
       "      <td>/Organization/-Fame</td>\n",
       "      <td>#fame</td>\n",
       "      <td>http://livfame.com</td>\n",
       "      <td>Media</td>\n",
       "      <td>operating</td>\n",
       "      <td>IND</td>\n",
       "      <td>16</td>\n",
       "      <td>Mumbai</td>\n",
       "      <td>Mumbai</td>\n",
       "      <td>NaN</td>\n",
       "    </tr>\n",
       "    <tr>\n",
       "      <th>1</th>\n",
       "      <td>/Organization/-Qounter</td>\n",
       "      <td>:Qounter</td>\n",
       "      <td>http://www.qounter.com</td>\n",
       "      <td>Application Platforms|Real Time|Social Network...</td>\n",
       "      <td>operating</td>\n",
       "      <td>USA</td>\n",
       "      <td>DE</td>\n",
       "      <td>DE - Other</td>\n",
       "      <td>Delaware City</td>\n",
       "      <td>04-09-2014</td>\n",
       "    </tr>\n",
       "    <tr>\n",
       "      <th>2</th>\n",
       "      <td>/Organization/-The-One-Of-Them-Inc-</td>\n",
       "      <td>(THE) ONE of THEM,Inc.</td>\n",
       "      <td>http://oneofthem.jp</td>\n",
       "      <td>Apps|Games|Mobile</td>\n",
       "      <td>operating</td>\n",
       "      <td>NaN</td>\n",
       "      <td>NaN</td>\n",
       "      <td>NaN</td>\n",
       "      <td>NaN</td>\n",
       "      <td>NaN</td>\n",
       "    </tr>\n",
       "    <tr>\n",
       "      <th>3</th>\n",
       "      <td>/Organization/0-6-Com</td>\n",
       "      <td>0-6.com</td>\n",
       "      <td>http://www.0-6.com</td>\n",
       "      <td>Curated Web</td>\n",
       "      <td>operating</td>\n",
       "      <td>CHN</td>\n",
       "      <td>22</td>\n",
       "      <td>Beijing</td>\n",
       "      <td>Beijing</td>\n",
       "      <td>01-01-2007</td>\n",
       "    </tr>\n",
       "    <tr>\n",
       "      <th>4</th>\n",
       "      <td>/Organization/004-Technologies</td>\n",
       "      <td>004 Technologies</td>\n",
       "      <td>http://004gmbh.de/en/004-interact</td>\n",
       "      <td>Software</td>\n",
       "      <td>operating</td>\n",
       "      <td>USA</td>\n",
       "      <td>IL</td>\n",
       "      <td>Springfield, Illinois</td>\n",
       "      <td>Champaign</td>\n",
       "      <td>01-01-2010</td>\n",
       "    </tr>\n",
       "  </tbody>\n",
       "</table>\n",
       "</div>"
      ],
      "text/plain": [
       "                             permalink                    name  \\\n",
       "0                  /Organization/-Fame                   #fame   \n",
       "1               /Organization/-Qounter                :Qounter   \n",
       "2  /Organization/-The-One-Of-Them-Inc-  (THE) ONE of THEM,Inc.   \n",
       "3                /Organization/0-6-Com                 0-6.com   \n",
       "4       /Organization/004-Technologies        004 Technologies   \n",
       "\n",
       "                        homepage_url  \\\n",
       "0                 http://livfame.com   \n",
       "1             http://www.qounter.com   \n",
       "2                http://oneofthem.jp   \n",
       "3                 http://www.0-6.com   \n",
       "4  http://004gmbh.de/en/004-interact   \n",
       "\n",
       "                                       category_list     status country_code  \\\n",
       "0                                              Media  operating          IND   \n",
       "1  Application Platforms|Real Time|Social Network...  operating          USA   \n",
       "2                                  Apps|Games|Mobile  operating          NaN   \n",
       "3                                        Curated Web  operating          CHN   \n",
       "4                                           Software  operating          USA   \n",
       "\n",
       "  state_code                 region           city  founded_at  \n",
       "0         16                 Mumbai         Mumbai         NaN  \n",
       "1         DE             DE - Other  Delaware City  04-09-2014  \n",
       "2        NaN                    NaN            NaN         NaN  \n",
       "3         22                Beijing        Beijing  01-01-2007  \n",
       "4         IL  Springfield, Illinois      Champaign  01-01-2010  "
      ]
     },
     "execution_count": 14,
     "metadata": {},
     "output_type": "execute_result"
    }
   ],
   "source": [
    "companies_df.head()"
   ]
  },
  {
   "cell_type": "code",
   "execution_count": 15,
   "id": "071cdb2b",
   "metadata": {},
   "outputs": [
    {
     "name": "stdout",
     "output_type": "stream",
     "text": [
      "<class 'pandas.core.frame.DataFrame'>\n",
      "RangeIndex: 66368 entries, 0 to 66367\n",
      "Data columns (total 10 columns):\n",
      " #   Column         Non-Null Count  Dtype \n",
      "---  ------         --------------  ----- \n",
      " 0   permalink      66368 non-null  object\n",
      " 1   name           66367 non-null  object\n",
      " 2   homepage_url   61310 non-null  object\n",
      " 3   category_list  63220 non-null  object\n",
      " 4   status         66368 non-null  object\n",
      " 5   country_code   59410 non-null  object\n",
      " 6   state_code     57821 non-null  object\n",
      " 7   region         58338 non-null  object\n",
      " 8   city           58340 non-null  object\n",
      " 9   founded_at     51147 non-null  object\n",
      "dtypes: object(10)\n",
      "memory usage: 5.1+ MB\n"
     ]
    }
   ],
   "source": [
    "companies_df.info()"
   ]
  },
  {
   "cell_type": "code",
   "execution_count": 16,
   "id": "b3c58fc4",
   "metadata": {},
   "outputs": [
    {
     "data": {
      "text/plain": [
       "permalink            0\n",
       "name                 1\n",
       "homepage_url      5058\n",
       "category_list     3148\n",
       "status               0\n",
       "country_code      6958\n",
       "state_code        8547\n",
       "region            8030\n",
       "city              8028\n",
       "founded_at       15221\n",
       "dtype: int64"
      ]
     },
     "execution_count": 16,
     "metadata": {},
     "output_type": "execute_result"
    }
   ],
   "source": [
    "companies_df.isnull().sum()"
   ]
  },
  {
   "cell_type": "code",
   "execution_count": 17,
   "id": "cb9809e4",
   "metadata": {},
   "outputs": [
    {
     "data": {
      "text/plain": [
       "Index(['permalink', 'name', 'homepage_url', 'category_list', 'status',\n",
       "       'country_code', 'state_code', 'region', 'city', 'founded_at'],\n",
       "      dtype='object')"
      ]
     },
     "execution_count": 17,
     "metadata": {},
     "output_type": "execute_result"
    }
   ],
   "source": [
    "companies_df.columns"
   ]
  },
  {
   "cell_type": "code",
   "execution_count": 18,
   "id": "3e4154b7",
   "metadata": {},
   "outputs": [],
   "source": [
    "companies_df.drop([ 'homepage_url',\n",
    "        'state_code', 'region', 'city', 'founded_at'], inplace = True, axis = 1)"
   ]
  },
  {
   "cell_type": "code",
   "execution_count": 19,
   "id": "97274e87",
   "metadata": {},
   "outputs": [
    {
     "data": {
      "text/plain": [
       "0                                                Media\n",
       "1    Application Platforms|Real Time|Social Network...\n",
       "2                                    Apps|Games|Mobile\n",
       "3                                          Curated Web\n",
       "4                                             Software\n",
       "Name: category_list, dtype: object"
      ]
     },
     "execution_count": 19,
     "metadata": {},
     "output_type": "execute_result"
    }
   ],
   "source": [
    "companies_df.category_list.head()"
   ]
  },
  {
   "cell_type": "code",
   "execution_count": 20,
   "id": "122dad45",
   "metadata": {},
   "outputs": [
    {
     "data": {
      "text/plain": [
       "\"\\nfrom sklearn.impute import SimpleImputer as si\\nimputer = si(strategy = 'most_frequent')\\nimputer = imputer.fit(companies_df.category_list)\\n\""
      ]
     },
     "execution_count": 20,
     "metadata": {},
     "output_type": "execute_result"
    }
   ],
   "source": [
    "\"\"\"\n",
    "from sklearn.impute import SimpleImputer as si\n",
    "imputer = si(strategy = 'most_frequent')\n",
    "imputer = imputer.fit(companies_df.category_list)\n",
    "\"\"\""
   ]
  },
  {
   "cell_type": "code",
   "execution_count": 21,
   "id": "691e6d36",
   "metadata": {},
   "outputs": [],
   "source": [
    "companies_df.name.dropna(inplace = True)"
   ]
  },
  {
   "cell_type": "code",
   "execution_count": 22,
   "id": "68f1bcd8",
   "metadata": {},
   "outputs": [],
   "source": [
    "companies_df.name = companies_df.name.str.lower()"
   ]
  },
  {
   "cell_type": "code",
   "execution_count": 23,
   "id": "3b645b49",
   "metadata": {},
   "outputs": [],
   "source": [
    "companies_df.category_list.dropna(inplace = True)"
   ]
  },
  {
   "cell_type": "code",
   "execution_count": 24,
   "id": "347d4462",
   "metadata": {},
   "outputs": [
    {
     "data": {
      "text/plain": [
       "array(['operating', 'acquired', 'closed', 'ipo'], dtype=object)"
      ]
     },
     "execution_count": 24,
     "metadata": {},
     "output_type": "execute_result"
    }
   ],
   "source": [
    "companies_df.status.unique()"
   ]
  },
  {
   "cell_type": "code",
   "execution_count": 25,
   "id": "5aa1f95b",
   "metadata": {},
   "outputs": [
    {
     "data": {
      "text/plain": [
       "array(['IND', 'USA', nan, 'CHN', 'HKG', 'CAN', 'CHL', 'GBR', 'FRA', 'AUS',\n",
       "       'DNK', 'ROM', 'AUT', 'KOR', 'NLD', 'SWE', 'JPN', 'RUS', 'SGP',\n",
       "       'NOR', 'COL', 'ESP', 'BEL', 'IRL', 'ITA', 'ISR', 'NZL', 'CZE',\n",
       "       'DEU', 'CHE', 'BRA', 'BGR', 'SVN', 'JOR', 'HUN', 'BWA', 'NGA',\n",
       "       'FIN', 'TUR', 'IDN', 'ARE', 'CYP', 'POL', 'CRI', 'PRT', 'ARG',\n",
       "       'TWN', 'KHM', 'THA', 'SVK', 'UKR', 'LTU', 'ISL', 'ZAF', 'MEX',\n",
       "       'VEN', 'URY', 'MUS', 'KEN', 'PHL', 'MNE', 'VNM', 'GHA', 'PSE',\n",
       "       'MYS', 'PER', 'EGY', 'PAN', 'LVA', 'GGY', 'ALB', 'UGA', 'HRV',\n",
       "       'EST', 'LBN', 'GRC', 'PAK', 'NPL', 'LUX', 'SAU', 'IRN', 'GTM',\n",
       "       'BAH', 'ARM', 'BGD', 'MDA', 'SRB', 'TUN', 'ZWE', 'BRB', 'NIC',\n",
       "       'TAN', 'PRI', 'TTO', 'BHR', 'CMR', 'BLR', 'CYM', 'BRN', 'ECU',\n",
       "       'SLV', 'MLT', 'ZMB', 'MKD', 'GIB', 'TGO', 'LAO', 'BMU', 'HND',\n",
       "       'MCO', 'MMR', 'KAZ', 'QAT', 'DOM', 'MAR', 'LIE', 'GEO', 'MOZ',\n",
       "       'DZA', 'JAM', 'KNA', 'AZE', 'SEN', 'RWA', 'DMA', 'UZB', 'BLZ',\n",
       "       'OMN', 'JEY', 'KWT', 'CIV', 'BLM', 'GRD', 'LKA', 'SOM', 'SYC',\n",
       "       'PRY', 'MAF'], dtype=object)"
      ]
     },
     "execution_count": 25,
     "metadata": {},
     "output_type": "execute_result"
    }
   ],
   "source": [
    "companies_df.country_code.unique()"
   ]
  },
  {
   "cell_type": "code",
   "execution_count": 26,
   "id": "51dc63eb",
   "metadata": {},
   "outputs": [
    {
     "data": {
      "text/plain": [
       "6958"
      ]
     },
     "execution_count": 26,
     "metadata": {},
     "output_type": "execute_result"
    }
   ],
   "source": [
    "companies_df.country_code.isnull().sum()"
   ]
  },
  {
   "cell_type": "code",
   "execution_count": 27,
   "id": "666832dd",
   "metadata": {},
   "outputs": [
    {
     "data": {
      "text/plain": [
       "0    USA\n",
       "Name: country_code, dtype: object"
      ]
     },
     "execution_count": 27,
     "metadata": {},
     "output_type": "execute_result"
    }
   ],
   "source": [
    "companies_df.country_code.mode()"
   ]
  },
  {
   "cell_type": "code",
   "execution_count": 28,
   "id": "619a343f",
   "metadata": {},
   "outputs": [],
   "source": [
    "companies_df.fillna(\"USA\", inplace = True)"
   ]
  },
  {
   "cell_type": "code",
   "execution_count": 29,
   "id": "56f9c62f",
   "metadata": {},
   "outputs": [
    {
     "data": {
      "text/plain": [
       "array(['IND', 'USA', 'CHN', 'HKG', 'CAN', 'CHL', 'GBR', 'FRA', 'AUS',\n",
       "       'DNK', 'ROM', 'AUT', 'KOR', 'NLD', 'SWE', 'JPN', 'RUS', 'SGP',\n",
       "       'NOR', 'COL', 'ESP', 'BEL', 'IRL', 'ITA', 'ISR', 'NZL', 'CZE',\n",
       "       'DEU', 'CHE', 'BRA', 'BGR', 'SVN', 'JOR', 'HUN', 'BWA', 'NGA',\n",
       "       'FIN', 'TUR', 'IDN', 'ARE', 'CYP', 'POL', 'CRI', 'PRT', 'ARG',\n",
       "       'TWN', 'KHM', 'THA', 'SVK', 'UKR', 'LTU', 'ISL', 'ZAF', 'MEX',\n",
       "       'VEN', 'URY', 'MUS', 'KEN', 'PHL', 'MNE', 'VNM', 'GHA', 'PSE',\n",
       "       'MYS', 'PER', 'EGY', 'PAN', 'LVA', 'GGY', 'ALB', 'UGA', 'HRV',\n",
       "       'EST', 'LBN', 'GRC', 'PAK', 'NPL', 'LUX', 'SAU', 'IRN', 'GTM',\n",
       "       'BAH', 'ARM', 'BGD', 'MDA', 'SRB', 'TUN', 'ZWE', 'BRB', 'NIC',\n",
       "       'TAN', 'PRI', 'TTO', 'BHR', 'CMR', 'BLR', 'CYM', 'BRN', 'ECU',\n",
       "       'SLV', 'MLT', 'ZMB', 'MKD', 'GIB', 'TGO', 'LAO', 'BMU', 'HND',\n",
       "       'MCO', 'MMR', 'KAZ', 'QAT', 'DOM', 'MAR', 'LIE', 'GEO', 'MOZ',\n",
       "       'DZA', 'JAM', 'KNA', 'AZE', 'SEN', 'RWA', 'DMA', 'UZB', 'BLZ',\n",
       "       'OMN', 'JEY', 'KWT', 'CIV', 'BLM', 'GRD', 'LKA', 'SOM', 'SYC',\n",
       "       'PRY', 'MAF'], dtype=object)"
      ]
     },
     "execution_count": 29,
     "metadata": {},
     "output_type": "execute_result"
    }
   ],
   "source": [
    "companies_df.country_code.unique()"
   ]
  },
  {
   "cell_type": "code",
   "execution_count": 30,
   "id": "6ea0daab",
   "metadata": {},
   "outputs": [
    {
     "data": {
      "text/plain": [
       "0"
      ]
     },
     "execution_count": 30,
     "metadata": {},
     "output_type": "execute_result"
    }
   ],
   "source": [
    "companies_df.country_code.isnull().sum()"
   ]
  },
  {
   "cell_type": "code",
   "execution_count": 31,
   "id": "d197b742",
   "metadata": {},
   "outputs": [
    {
     "data": {
      "text/plain": [
       "permalink        0\n",
       "name             0\n",
       "category_list    0\n",
       "status           0\n",
       "country_code     0\n",
       "dtype: int64"
      ]
     },
     "execution_count": 31,
     "metadata": {},
     "output_type": "execute_result"
    }
   ],
   "source": [
    "companies_df.isnull().sum()"
   ]
  },
  {
   "cell_type": "code",
   "execution_count": 32,
   "id": "7572b7fb",
   "metadata": {},
   "outputs": [],
   "source": [
    "companies_df.permalink = companies_df.permalink.str.lower()"
   ]
  },
  {
   "cell_type": "code",
   "execution_count": 33,
   "id": "46a87e0c",
   "metadata": {},
   "outputs": [],
   "source": [
    "df = pd.merge(rounds_df, companies_df, how = \"inner\", on = \"permalink\")"
   ]
  },
  {
   "cell_type": "code",
   "execution_count": 34,
   "id": "9a4ec2f1",
   "metadata": {},
   "outputs": [
    {
     "data": {
      "text/html": [
       "<div>\n",
       "<style scoped>\n",
       "    .dataframe tbody tr th:only-of-type {\n",
       "        vertical-align: middle;\n",
       "    }\n",
       "\n",
       "    .dataframe tbody tr th {\n",
       "        vertical-align: top;\n",
       "    }\n",
       "\n",
       "    .dataframe thead th {\n",
       "        text-align: right;\n",
       "    }\n",
       "</style>\n",
       "<table border=\"1\" class=\"dataframe\">\n",
       "  <thead>\n",
       "    <tr style=\"text-align: right;\">\n",
       "      <th></th>\n",
       "      <th>permalink</th>\n",
       "      <th>funding_round_type</th>\n",
       "      <th>raised_amount_usd</th>\n",
       "      <th>name</th>\n",
       "      <th>category_list</th>\n",
       "      <th>status</th>\n",
       "      <th>country_code</th>\n",
       "    </tr>\n",
       "  </thead>\n",
       "  <tbody>\n",
       "    <tr>\n",
       "      <th>0</th>\n",
       "      <td>/organization/-fame</td>\n",
       "      <td>venture</td>\n",
       "      <td>10000000.0</td>\n",
       "      <td>#fame</td>\n",
       "      <td>Media</td>\n",
       "      <td>operating</td>\n",
       "      <td>IND</td>\n",
       "    </tr>\n",
       "    <tr>\n",
       "      <th>1</th>\n",
       "      <td>/organization/-qounter</td>\n",
       "      <td>venture</td>\n",
       "      <td>NaN</td>\n",
       "      <td>:qounter</td>\n",
       "      <td>Application Platforms|Real Time|Social Network...</td>\n",
       "      <td>operating</td>\n",
       "      <td>USA</td>\n",
       "    </tr>\n",
       "    <tr>\n",
       "      <th>2</th>\n",
       "      <td>/organization/-qounter</td>\n",
       "      <td>seed</td>\n",
       "      <td>700000.0</td>\n",
       "      <td>:qounter</td>\n",
       "      <td>Application Platforms|Real Time|Social Network...</td>\n",
       "      <td>operating</td>\n",
       "      <td>USA</td>\n",
       "    </tr>\n",
       "    <tr>\n",
       "      <th>3</th>\n",
       "      <td>/organization/-the-one-of-them-inc-</td>\n",
       "      <td>venture</td>\n",
       "      <td>3406878.0</td>\n",
       "      <td>(the) one of them,inc.</td>\n",
       "      <td>Apps|Games|Mobile</td>\n",
       "      <td>operating</td>\n",
       "      <td>USA</td>\n",
       "    </tr>\n",
       "    <tr>\n",
       "      <th>4</th>\n",
       "      <td>/organization/0-6-com</td>\n",
       "      <td>venture</td>\n",
       "      <td>2000000.0</td>\n",
       "      <td>0-6.com</td>\n",
       "      <td>Curated Web</td>\n",
       "      <td>operating</td>\n",
       "      <td>CHN</td>\n",
       "    </tr>\n",
       "  </tbody>\n",
       "</table>\n",
       "</div>"
      ],
      "text/plain": [
       "                             permalink funding_round_type  raised_amount_usd  \\\n",
       "0                  /organization/-fame            venture         10000000.0   \n",
       "1               /organization/-qounter            venture                NaN   \n",
       "2               /organization/-qounter               seed           700000.0   \n",
       "3  /organization/-the-one-of-them-inc-            venture          3406878.0   \n",
       "4                /organization/0-6-com            venture          2000000.0   \n",
       "\n",
       "                     name                                      category_list  \\\n",
       "0                   #fame                                              Media   \n",
       "1                :qounter  Application Platforms|Real Time|Social Network...   \n",
       "2                :qounter  Application Platforms|Real Time|Social Network...   \n",
       "3  (the) one of them,inc.                                  Apps|Games|Mobile   \n",
       "4                 0-6.com                                        Curated Web   \n",
       "\n",
       "      status country_code  \n",
       "0  operating          IND  \n",
       "1  operating          USA  \n",
       "2  operating          USA  \n",
       "3  operating          USA  \n",
       "4  operating          CHN  "
      ]
     },
     "execution_count": 34,
     "metadata": {},
     "output_type": "execute_result"
    }
   ],
   "source": [
    "df.head()"
   ]
  },
  {
   "cell_type": "code",
   "execution_count": 35,
   "id": "b56886a6",
   "metadata": {},
   "outputs": [
    {
     "name": "stdout",
     "output_type": "stream",
     "text": [
      "<class 'pandas.core.frame.DataFrame'>\n",
      "Int64Index: 114917 entries, 0 to 114916\n",
      "Data columns (total 7 columns):\n",
      " #   Column              Non-Null Count   Dtype  \n",
      "---  ------              --------------   -----  \n",
      " 0   permalink           114917 non-null  object \n",
      " 1   funding_round_type  114917 non-null  object \n",
      " 2   raised_amount_usd   94942 non-null   float64\n",
      " 3   name                114917 non-null  object \n",
      " 4   category_list       114917 non-null  object \n",
      " 5   status              114917 non-null  object \n",
      " 6   country_code        114917 non-null  object \n",
      "dtypes: float64(1), object(6)\n",
      "memory usage: 7.0+ MB\n"
     ]
    }
   ],
   "source": [
    "df.info()"
   ]
  },
  {
   "cell_type": "code",
   "execution_count": 36,
   "id": "ae651eee",
   "metadata": {},
   "outputs": [
    {
     "data": {
      "text/plain": [
       "0                                                     Media\n",
       "1         Application Platforms|Real Time|Social Network...\n",
       "2         Application Platforms|Real Time|Social Network...\n",
       "3                                         Apps|Games|Mobile\n",
       "4                                               Curated Web\n",
       "                                ...                        \n",
       "114912          Advertising|Mobile|Web Development|Wireless\n",
       "114913          Advertising|Mobile|Web Development|Wireless\n",
       "114914          Advertising|Mobile|Web Development|Wireless\n",
       "114915                                                  USA\n",
       "114916                   Consumer Goods|E-Commerce|Internet\n",
       "Name: category_list, Length: 114917, dtype: object"
      ]
     },
     "execution_count": 36,
     "metadata": {},
     "output_type": "execute_result"
    }
   ],
   "source": [
    "df.category_list"
   ]
  },
  {
   "cell_type": "code",
   "execution_count": 37,
   "id": "96f2844c",
   "metadata": {},
   "outputs": [],
   "source": [
    "df.dropna(inplace = True)"
   ]
  },
  {
   "cell_type": "code",
   "execution_count": 38,
   "id": "5a5317de",
   "metadata": {},
   "outputs": [
    {
     "name": "stdout",
     "output_type": "stream",
     "text": [
      "<class 'pandas.core.frame.DataFrame'>\n",
      "Int64Index: 94942 entries, 0 to 114916\n",
      "Data columns (total 7 columns):\n",
      " #   Column              Non-Null Count  Dtype  \n",
      "---  ------              --------------  -----  \n",
      " 0   permalink           94942 non-null  object \n",
      " 1   funding_round_type  94942 non-null  object \n",
      " 2   raised_amount_usd   94942 non-null  float64\n",
      " 3   name                94942 non-null  object \n",
      " 4   category_list       94942 non-null  object \n",
      " 5   status              94942 non-null  object \n",
      " 6   country_code        94942 non-null  object \n",
      "dtypes: float64(1), object(6)\n",
      "memory usage: 5.8+ MB\n"
     ]
    }
   ],
   "source": [
    "df.info()"
   ]
  },
  {
   "cell_type": "markdown",
   "id": "079c2844",
   "metadata": {},
   "source": [
    "# PART - II : End of part II"
   ]
  },
  {
   "cell_type": "markdown",
   "id": "4f0ebca8",
   "metadata": {},
   "source": [
    "# PART - III : Analysing Data"
   ]
  },
  {
   "cell_type": "code",
   "execution_count": 39,
   "id": "6e5c5c04",
   "metadata": {},
   "outputs": [
    {
     "data": {
      "text/plain": [
       "Index(['permalink', 'funding_round_type', 'raised_amount_usd', 'name',\n",
       "       'category_list', 'status', 'country_code'],\n",
       "      dtype='object')"
      ]
     },
     "execution_count": 39,
     "metadata": {},
     "output_type": "execute_result"
    }
   ],
   "source": [
    "df.columns"
   ]
  },
  {
   "cell_type": "code",
   "execution_count": 40,
   "id": "5c44ba9d",
   "metadata": {},
   "outputs": [
    {
     "data": {
      "text/plain": [
       "array(['venture', 'seed', 'undisclosed', 'convertible_note',\n",
       "       'private_equity', 'debt_financing', 'angel', 'grant',\n",
       "       'equity_crowdfunding', 'post_ipo_equity', 'post_ipo_debt',\n",
       "       'product_crowdfunding', 'secondary_market',\n",
       "       'non_equity_assistance'], dtype=object)"
      ]
     },
     "execution_count": 40,
     "metadata": {},
     "output_type": "execute_result"
    }
   ],
   "source": [
    "df.funding_round_type.unique()"
   ]
  },
  {
   "cell_type": "code",
   "execution_count": 41,
   "id": "4de6ca58",
   "metadata": {},
   "outputs": [
    {
     "data": {
      "text/plain": [
       "max      2.127194e+10\n",
       "75%      7.000000e+06\n",
       "50%      1.682532e+06\n",
       "25%      3.230062e+05\n",
       "min      0.000000e+00\n",
       "std      1.148314e+08\n",
       "mean     1.042810e+07\n",
       "count    9.494200e+04\n",
       "Name: raised_amount_usd, dtype: float64"
      ]
     },
     "execution_count": 41,
     "metadata": {},
     "output_type": "execute_result"
    }
   ],
   "source": [
    "df.raised_amount_usd.describe()[::-1]"
   ]
  },
  {
   "cell_type": "markdown",
   "id": "692977a8",
   "metadata": {},
   "source": [
    "## Maximum value is in the order of power of 10, which is a highly impossible investment amount\n",
    "Thus definitely an outlier"
   ]
  },
  {
   "cell_type": "markdown",
   "id": "b1dc7162",
   "metadata": {},
   "source": [
    "## Scaling Down to the power of 6"
   ]
  },
  {
   "cell_type": "code",
   "execution_count": 42,
   "id": "f0816755",
   "metadata": {},
   "outputs": [],
   "source": [
    "df.raised_amount_usd /= 1e06 "
   ]
  },
  {
   "cell_type": "raw",
   "id": "ec5dfb84",
   "metadata": {},
   "source": [
    "Filtering data based on requirement of investment amount "
   ]
  },
  {
   "cell_type": "code",
   "execution_count": 43,
   "id": "7ac264b8",
   "metadata": {},
   "outputs": [],
   "source": [
    "df = df[(df.raised_amount_usd != 0) & (df.raised_amount_usd < 15) & (df.raised_amount_usd > 5)]"
   ]
  },
  {
   "cell_type": "code",
   "execution_count": 44,
   "id": "3e4589de",
   "metadata": {},
   "outputs": [
    {
     "data": {
      "text/plain": [
       "<AxesSubplot:xlabel='funding_round_type', ylabel='raised_amount_usd'>"
      ]
     },
     "execution_count": 44,
     "metadata": {},
     "output_type": "execute_result"
    },
    {
     "data": {
      "image/png": "[encoded data removed]",
      "text/plain": [
       "<Figure size 2000x1000 with 1 Axes>"
      ]
     },
     "metadata": {},
     "output_type": "display_data"
    }
   ],
   "source": [
    "plt.figure(figsize = [20,10])\n",
    "plt.xticks(rotation = 45)\n",
    "sns.boxplot(x = 'funding_round_type', y = 'raised_amount_usd', data = df )"
   ]
  },
  {
   "cell_type": "code",
   "execution_count": 45,
   "id": "99060c9f",
   "metadata": {},
   "outputs": [
    {
     "name": "stdout",
     "output_type": "stream",
     "text": [
      "<class 'pandas.core.series.Series'>\n",
      "Int64Index: 15595 entries, 0 to 114905\n",
      "Series name: raised_amount_usd\n",
      "Non-Null Count  Dtype  \n",
      "--------------  -----  \n",
      "15595 non-null  float64\n",
      "dtypes: float64(1)\n",
      "memory usage: 243.7 KB\n"
     ]
    }
   ],
   "source": [
    "df.raised_amount_usd.info()"
   ]
  },
  {
   "cell_type": "markdown",
   "id": "1446ecfc",
   "metadata": {},
   "source": [
    "# outlier treatment based on Box Plot \n"
   ]
  },
  {
   "cell_type": "code",
   "execution_count": 46,
   "id": "6209b5e8",
   "metadata": {},
   "outputs": [],
   "source": [
    "####Removing outliers \n",
    "q1 = df.groupby('funding_round_type')['raised_amount_usd'].quantile([0.25, 0.75])\n",
    "#q3 = np.percentile(df.raised_amount_usd, 75)\n",
    "#IQR = q3-q1\n",
    "#lwr_bound = q1-(1.5*IQR)\n",
    "#upr_bound = q3+(1.5*IQR)"
   ]
  },
  {
   "cell_type": "code",
   "execution_count": 47,
   "id": "2dc0dafe",
   "metadata": {},
   "outputs": [],
   "source": [
    "###OutlierTreatment\n",
    "new_df = pd.DataFrame(columns = df.columns)\n",
    "for key in df.funding_round_type.unique():\n",
    "    IQR = q1[key][0.75] - q1[key][0.25]\n",
    "    upr_bound = q1[key][0.75] + (1.5*IQR)\n",
    "    df_copy = df[(df.funding_round_type == key) & (df.raised_amount_usd < upr_bound)]\n",
    "    new_df = pd.concat([new_df, df_copy])\n",
    "    \n",
    "    "
   ]
  },
  {
   "cell_type": "code",
   "execution_count": 48,
   "id": "6e71d939",
   "metadata": {},
   "outputs": [
    {
     "name": "stdout",
     "output_type": "stream",
     "text": [
      "<class 'pandas.core.frame.DataFrame'>\n",
      "Int64Index: 15585 entries, 0 to 110689\n",
      "Data columns (total 7 columns):\n",
      " #   Column              Non-Null Count  Dtype  \n",
      "---  ------              --------------  -----  \n",
      " 0   permalink           15585 non-null  object \n",
      " 1   funding_round_type  15585 non-null  object \n",
      " 2   raised_amount_usd   15585 non-null  float64\n",
      " 3   name                15585 non-null  object \n",
      " 4   category_list       15585 non-null  object \n",
      " 5   status              15585 non-null  object \n",
      " 6   country_code        15585 non-null  object \n",
      "dtypes: float64(1), object(6)\n",
      "memory usage: 974.1+ KB\n"
     ]
    }
   ],
   "source": [
    "new_df.info()"
   ]
  },
  {
   "cell_type": "code",
   "execution_count": 49,
   "id": "6f55fe93",
   "metadata": {},
   "outputs": [],
   "source": [
    "df = new_df"
   ]
  },
  {
   "cell_type": "code",
   "execution_count": 50,
   "id": "bb697569",
   "metadata": {},
   "outputs": [],
   "source": [
    "scalar = StandardScaler()\n"
   ]
  },
  {
   "cell_type": "code",
   "execution_count": 51,
   "id": "4322eec1",
   "metadata": {},
   "outputs": [],
   "source": [
    "df['scaled_amount'] = scalar.fit_transform(np.array(df.raised_amount_usd).reshape(-1,1))"
   ]
  },
  {
   "cell_type": "code",
   "execution_count": 52,
   "id": "e8489abf",
   "metadata": {},
   "outputs": [
    {
     "data": {
      "text/plain": [
       "count    1.558500e+04\n",
       "mean    -1.053472e-15\n",
       "std      1.000032e+00\n",
       "min     -1.518278e+00\n",
       "25%     -8.894859e-01\n",
       "50%     -1.412459e-01\n",
       "75%      6.456297e-01\n",
       "max      2.416099e+00\n",
       "Name: scaled_amount, dtype: float64"
      ]
     },
     "execution_count": 52,
     "metadata": {},
     "output_type": "execute_result"
    }
   ],
   "source": [
    "df.scaled_amount.describe()"
   ]
  },
  {
   "cell_type": "code",
   "execution_count": 53,
   "id": "3f276227",
   "metadata": {},
   "outputs": [
    {
     "data": {
      "text/plain": [
       "<AxesSubplot:xlabel='scaled_amount', ylabel='Count'>"
      ]
     },
     "execution_count": 53,
     "metadata": {},
     "output_type": "execute_result"
    },
    {
     "data": {
      "image/png": "[encoded data removed]",
      "text/plain": [
       "<Figure size 640x480 with 1 Axes>"
      ]
     },
     "metadata": {},
     "output_type": "display_data"
    }
   ],
   "source": [
    "sns.histplot(df.scaled_amount)"
   ]
  },
  {
   "cell_type": "code",
   "execution_count": 54,
   "id": "774dfbb8",
   "metadata": {},
   "outputs": [
    {
     "data": {
      "text/plain": [
       "venture                 13799\n",
       "debt_financing            659\n",
       "private_equity            361\n",
       "undisclosed               192\n",
       "grant                     153\n",
       "seed                      137\n",
       "post_ipo_equity           137\n",
       "angel                      53\n",
       "convertible_note           36\n",
       "post_ipo_debt              22\n",
       "equity_crowdfunding        18\n",
       "product_crowdfunding       14\n",
       "secondary_market            4\n",
       "Name: funding_round_type, dtype: int64"
      ]
     },
     "execution_count": 54,
     "metadata": {},
     "output_type": "execute_result"
    }
   ],
   "source": [
    "df.funding_round_type.value_counts()"
   ]
  },
  {
   "cell_type": "code",
   "execution_count": 55,
   "id": "fc1f33e3",
   "metadata": {},
   "outputs": [
    {
     "data": {
      "text/plain": [
       "<AxesSubplot:xlabel='funding_round_type', ylabel='scaled_amount'>"
      ]
     },
     "execution_count": 55,
     "metadata": {},
     "output_type": "execute_result"
    },
    {
     "data": {
      "image/png": "[encoded data removed]",
      "text/plain": [
       "<Figure size 2000x1000 with 1 Axes>"
      ]
     },
     "metadata": {},
     "output_type": "display_data"
    }
   ],
   "source": [
    "plt.figure(figsize = [20,10])\n",
    "plt.xticks(rotation = 45)\n",
    "sns.boxplot(x = 'funding_round_type', y = 'scaled_amount', data = df )"
   ]
  },
  {
   "cell_type": "code",
   "execution_count": 56,
   "id": "711f4630",
   "metadata": {},
   "outputs": [
    {
     "data": {
      "text/html": [
       "<div>\n",
       "<style scoped>\n",
       "    .dataframe tbody tr th:only-of-type {\n",
       "        vertical-align: middle;\n",
       "    }\n",
       "\n",
       "    .dataframe tbody tr th {\n",
       "        vertical-align: top;\n",
       "    }\n",
       "\n",
       "    .dataframe thead th {\n",
       "        text-align: right;\n",
       "    }\n",
       "</style>\n",
       "<table border=\"1\" class=\"dataframe\">\n",
       "  <thead>\n",
       "    <tr style=\"text-align: right;\">\n",
       "      <th></th>\n",
       "      <th>count</th>\n",
       "      <th>sum</th>\n",
       "    </tr>\n",
       "    <tr>\n",
       "      <th>funding_round_type</th>\n",
       "      <th></th>\n",
       "      <th></th>\n",
       "    </tr>\n",
       "  </thead>\n",
       "  <tbody>\n",
       "    <tr>\n",
       "      <th>angel</th>\n",
       "      <td>53</td>\n",
       "      <td>414.289543</td>\n",
       "    </tr>\n",
       "    <tr>\n",
       "      <th>convertible_note</th>\n",
       "      <td>36</td>\n",
       "      <td>297.443046</td>\n",
       "    </tr>\n",
       "    <tr>\n",
       "      <th>debt_financing</th>\n",
       "      <td>659</td>\n",
       "      <td>5611.707809</td>\n",
       "    </tr>\n",
       "    <tr>\n",
       "      <th>equity_crowdfunding</th>\n",
       "      <td>18</td>\n",
       "      <td>125.531337</td>\n",
       "    </tr>\n",
       "    <tr>\n",
       "      <th>grant</th>\n",
       "      <td>153</td>\n",
       "      <td>1358.476162</td>\n",
       "    </tr>\n",
       "    <tr>\n",
       "      <th>post_ipo_debt</th>\n",
       "      <td>22</td>\n",
       "      <td>199.168349</td>\n",
       "    </tr>\n",
       "    <tr>\n",
       "      <th>post_ipo_equity</th>\n",
       "      <td>137</td>\n",
       "      <td>1292.391626</td>\n",
       "    </tr>\n",
       "    <tr>\n",
       "      <th>private_equity</th>\n",
       "      <td>361</td>\n",
       "      <td>3352.619646</td>\n",
       "    </tr>\n",
       "    <tr>\n",
       "      <th>product_crowdfunding</th>\n",
       "      <td>14</td>\n",
       "      <td>122.780692</td>\n",
       "    </tr>\n",
       "    <tr>\n",
       "      <th>secondary_market</th>\n",
       "      <td>4</td>\n",
       "      <td>32.411263</td>\n",
       "    </tr>\n",
       "    <tr>\n",
       "      <th>seed</th>\n",
       "      <td>137</td>\n",
       "      <td>922.733996</td>\n",
       "    </tr>\n",
       "    <tr>\n",
       "      <th>undisclosed</th>\n",
       "      <td>192</td>\n",
       "      <td>1660.869257</td>\n",
       "    </tr>\n",
       "    <tr>\n",
       "      <th>venture</th>\n",
       "      <td>13799</td>\n",
       "      <td>122677.161297</td>\n",
       "    </tr>\n",
       "  </tbody>\n",
       "</table>\n",
       "</div>"
      ],
      "text/plain": [
       "                      count            sum\n",
       "funding_round_type                        \n",
       "angel                    53     414.289543\n",
       "convertible_note         36     297.443046\n",
       "debt_financing          659    5611.707809\n",
       "equity_crowdfunding      18     125.531337\n",
       "grant                   153    1358.476162\n",
       "post_ipo_debt            22     199.168349\n",
       "post_ipo_equity         137    1292.391626\n",
       "private_equity          361    3352.619646\n",
       "product_crowdfunding     14     122.780692\n",
       "secondary_market          4      32.411263\n",
       "seed                    137     922.733996\n",
       "undisclosed             192    1660.869257\n",
       "venture               13799  122677.161297"
      ]
     },
     "execution_count": 56,
     "metadata": {},
     "output_type": "execute_result"
    }
   ],
   "source": [
    "df.groupby(['funding_round_type']).raised_amount_usd.agg(['count', 'sum'])"
   ]
  },
  {
   "cell_type": "code",
   "execution_count": 57,
   "id": "a997aa52",
   "metadata": {},
   "outputs": [
    {
     "data": {
      "text/plain": [
       "<AxesSubplot:xlabel='funding_round_type', ylabel='raised_amount_usd'>"
      ]
     },
     "execution_count": 57,
     "metadata": {},
     "output_type": "execute_result"
    },
    {
     "data": {
      "image/png": "[encoded data removed]",
      "text/plain": [
       "<Figure size 640x480 with 1 Axes>"
      ]
     },
     "metadata": {},
     "output_type": "display_data"
    }
   ],
   "source": [
    "plt.xticks(rotation = 45)\n",
    "sns.barplot(x = 'funding_round_type' , y = 'raised_amount_usd' , data = df[df.funding_round_type != 'venture'], estimator = np.sum)"
   ]
  },
  {
   "cell_type": "code",
   "execution_count": 58,
   "id": "c0c0bbaa",
   "metadata": {
    "scrolled": true
   },
   "outputs": [
    {
     "data": {
      "text/plain": [
       "array(['IND', 'USA', 'FRA', 'CHN', 'SGP', 'CAN', 'GBR', 'DEU', 'HKG',\n",
       "       'SVN', 'BRA', 'JPN', 'SWE', 'THA', 'TWN', 'MEX', 'IRL', 'DNK',\n",
       "       'ISR', 'MNE', 'ESP', 'BEL', 'AUS', 'RUS', 'CHE', 'EST', 'ITA',\n",
       "       'NLD', 'AUT', 'NOR', 'HUN', 'NZL', 'ARM', 'KOR', 'FIN', 'TUR',\n",
       "       'ROM', 'KEN', 'CYP', 'ARE', 'PHL', 'CYM', 'PRT', 'VNM', 'ARG',\n",
       "       'CHL', 'LVA', 'IDN', 'POL', 'LUX', 'MYS', 'UKR', 'BGR', 'ISL',\n",
       "       'ZAF', 'KAZ', 'NGA', 'LIE', 'CZE', 'TAN', 'JOR', 'PAK', 'BAH',\n",
       "       'KWT', 'URY', 'EGY', 'BGD', 'LTU', 'MAF', 'GIB', 'MLT', 'GRC',\n",
       "       'ZWE'], dtype=object)"
      ]
     },
     "execution_count": 58,
     "metadata": {},
     "output_type": "execute_result"
    }
   ],
   "source": [
    "df.country_code.unique()"
   ]
  },
  {
   "cell_type": "code",
   "execution_count": 59,
   "id": "feb78637",
   "metadata": {},
   "outputs": [],
   "source": [
    "country_df = pd.read_csv(\"dataset/country_code.csv\")\n",
    "english_df = pd.read_csv(\"dataset/english.csv\")"
   ]
  },
  {
   "cell_type": "code",
   "execution_count": 60,
   "id": "d94f1cec",
   "metadata": {},
   "outputs": [],
   "source": [
    "country_df.drop(['alpha-2', 'country-code', 'iso_3166-2', 'region',\n",
    "       'sub-region', 'intermediate-region', 'region-code', 'sub-region-code',\n",
    "       'intermediate-region-code'], inplace = True, axis = 1)"
   ]
  },
  {
   "cell_type": "code",
   "execution_count": 61,
   "id": "56c09d57",
   "metadata": {},
   "outputs": [
    {
     "data": {
      "text/plain": [
       "Index(['name', 'alpha-3'], dtype='object')"
      ]
     },
     "execution_count": 61,
     "metadata": {},
     "output_type": "execute_result"
    }
   ],
   "source": [
    "country_df.columns"
   ]
  },
  {
   "cell_type": "code",
   "execution_count": 62,
   "id": "b554c975",
   "metadata": {},
   "outputs": [],
   "source": [
    "country_df.rename({'name':'countries'}, axis = 1, inplace = True)"
   ]
  },
  {
   "cell_type": "code",
   "execution_count": 63,
   "id": "ce73f856",
   "metadata": {},
   "outputs": [],
   "source": [
    "country_df['countries'] = country_df['countries'].str.lower().replace(r'(\\S+)\\s(\\S+).*', r'\\1\\2', regex=True)"
   ]
  },
  {
   "cell_type": "code",
   "execution_count": 64,
   "id": "ca83d0fa",
   "metadata": {},
   "outputs": [
    {
     "data": {
      "text/plain": [
       "Index(['countries'], dtype='object')"
      ]
     },
     "execution_count": 64,
     "metadata": {},
     "output_type": "execute_result"
    }
   ],
   "source": [
    "english_df.columns"
   ]
  },
  {
   "cell_type": "code",
   "execution_count": 65,
   "id": "232716be",
   "metadata": {},
   "outputs": [],
   "source": [
    "english_df['countries'] = english_df['countries'].str.lower().replace(r'(\\S+)\\s(\\S+).*', r'\\1\\2', regex=True)"
   ]
  },
  {
   "cell_type": "code",
   "execution_count": 66,
   "id": "f747b57c",
   "metadata": {},
   "outputs": [
    {
     "data": {
      "text/plain": [
       "array(['unitedstates', 'canada', 'europe', 'republicof', 'malta',\n",
       "       'caribbean', 'barbados', 'trinidadand', 'bahamas', 'guyana',\n",
       "       'oceania', 'newzealand', 'papuanew', 'fiji', 'samoa', 'tonga',\n",
       "       'solomonislands', 'micronesia', 'vanuatu', 'kiribati', 'india',\n",
       "       'pakistan', 'singapore', 'philippines', 'srilanka', 'malaysia',\n",
       "       'nigeria', 'cameroon', 'kenya', 'zimbabwe', 'ghana', 'rwanda',\n",
       "       'sudan', 'botswana', 'ethiopia'], dtype=object)"
      ]
     },
     "execution_count": 66,
     "metadata": {},
     "output_type": "execute_result"
    }
   ],
   "source": [
    "english_df.countries.unique()"
   ]
  },
  {
   "cell_type": "code",
   "execution_count": 67,
   "id": "a918f950",
   "metadata": {},
   "outputs": [
    {
     "data": {
      "text/plain": [
       "array(['afghanistan', 'ålandislands', 'albania', 'algeria',\n",
       "       'americansamoa', 'andorra', 'angola', 'anguilla', 'antarctica',\n",
       "       'antiguaand', 'argentina', 'armenia', 'aruba', 'australia',\n",
       "       'austria', 'azerbaijan', 'bahamas', 'bahrain', 'bangladesh',\n",
       "       'barbados', 'belarus', 'belgium', 'belize', 'benin', 'bermuda',\n",
       "       'bhutan', 'bolivia(plurinational', 'bonaire,sint', 'bosniaand',\n",
       "       'botswana', 'bouvetisland', 'brazil', 'britishindian',\n",
       "       'bruneidarussalam', 'bulgaria', 'burkinafaso', 'burundi',\n",
       "       'caboverde', 'cambodia', 'cameroon', 'canada', 'caymanislands',\n",
       "       'centralafrican', 'chad', 'chile', 'china', 'christmasisland',\n",
       "       'cocos(keeling)', 'colombia', 'comoros', 'congo',\n",
       "       'congo,democratic', 'cookislands', 'costarica', \"côted'ivoire\",\n",
       "       'croatia', 'cuba', 'curaçao', 'cyprus', 'czechia', 'denmark',\n",
       "       'djibouti', 'dominica', 'dominicanrepublic', 'ecuador', 'egypt',\n",
       "       'elsalvador', 'equatorialguinea', 'eritrea', 'estonia', 'eswatini',\n",
       "       'ethiopia', 'falklandislands', 'faroeislands', 'fiji', 'finland',\n",
       "       'france', 'frenchguiana', 'frenchpolynesia', 'frenchsouthern',\n",
       "       'gabon', 'gambia', 'georgia', 'germany', 'ghana', 'gibraltar',\n",
       "       'greece', 'greenland', 'grenada', 'guadeloupe', 'guam',\n",
       "       'guatemala', 'guernsey', 'guinea', 'guinea-bissau', 'guyana',\n",
       "       'haiti', 'heardisland', 'holysee', 'honduras', 'hongkong',\n",
       "       'hungary', 'iceland', 'india', 'indonesia', 'iran(islamic', 'iraq',\n",
       "       'ireland', 'isleof', 'israel', 'italy', 'jamaica', 'japan',\n",
       "       'jersey', 'jordan', 'kazakhstan', 'kenya', 'kiribati',\n",
       "       'korea(democratic', 'korea,republic', 'kuwait', 'kyrgyzstan',\n",
       "       \"laopeople's\", 'latvia', 'lebanon', 'lesotho', 'liberia', 'libya',\n",
       "       'liechtenstein', 'lithuania', 'luxembourg', 'macao', 'madagascar',\n",
       "       'malawi', 'malaysia', 'maldives', 'mali', 'malta',\n",
       "       'marshallislands', 'martinique', 'mauritania', 'mauritius',\n",
       "       'mayotte', 'mexico', 'micronesia(federated', 'moldova,republic',\n",
       "       'monaco', 'mongolia', 'montenegro', 'montserrat', 'morocco',\n",
       "       'mozambique', 'myanmar', 'namibia', 'nauru', 'nepal',\n",
       "       'netherlands', 'newcaledonia', 'newzealand', 'nicaragua', 'niger',\n",
       "       'nigeria', 'niue', 'norfolkisland', 'northmacedonia',\n",
       "       'northernmariana', 'norway', 'oman', 'pakistan', 'palau',\n",
       "       'palestine,state', 'panama', 'papuanew', 'paraguay', 'peru',\n",
       "       'philippines', 'pitcairn', 'poland', 'portugal', 'puertorico',\n",
       "       'qatar', 'réunion', 'romania', 'russianfederation', 'rwanda',\n",
       "       'saintbarthélemy', 'sainthelena,', 'saintkitts', 'saintlucia',\n",
       "       'saintmartin', 'saintpierre', 'saintvincent', 'samoa', 'sanmarino',\n",
       "       'saotome', 'saudiarabia', 'senegal', 'serbia', 'seychelles',\n",
       "       'sierraleone', 'singapore', 'sintmaarten', 'slovakia', 'slovenia',\n",
       "       'solomonislands', 'somalia', 'southafrica', 'southgeorgia',\n",
       "       'southsudan', 'spain', 'srilanka', 'sudan', 'suriname',\n",
       "       'svalbardand', 'sweden', 'switzerland', 'syrianarab',\n",
       "       'taiwan,province', 'tajikistan', 'tanzania,united', 'thailand',\n",
       "       'timor-leste', 'togo', 'tokelau', 'tonga', 'trinidadand',\n",
       "       'tunisia', 'turkey', 'turkmenistan', 'turksand', 'tuvalu',\n",
       "       'uganda', 'ukraine', 'unitedarab', 'unitedkingdom', 'unitedstates',\n",
       "       'uruguay', 'uzbekistan', 'vanuatu', 'venezuela(bolivarian',\n",
       "       'vietnam', 'virginislands', 'wallisand', 'westernsahara', 'yemen',\n",
       "       'zambia', 'zimbabwe'], dtype=object)"
      ]
     },
     "execution_count": 67,
     "metadata": {},
     "output_type": "execute_result"
    }
   ],
   "source": [
    "country_df.countries.unique()"
   ]
  },
  {
   "cell_type": "code",
   "execution_count": 68,
   "id": "ca3a27a7",
   "metadata": {},
   "outputs": [],
   "source": [
    "country_df = country_df.merge(english_df, on = \"countries\", how = \"inner\")"
   ]
  },
  {
   "cell_type": "code",
   "execution_count": 69,
   "id": "b35696ff",
   "metadata": {},
   "outputs": [
    {
     "name": "stdout",
     "output_type": "stream",
     "text": [
      "<class 'pandas.core.frame.DataFrame'>\n",
      "Int64Index: 31 entries, 0 to 30\n",
      "Data columns (total 2 columns):\n",
      " #   Column     Non-Null Count  Dtype \n",
      "---  ------     --------------  ----- \n",
      " 0   countries  31 non-null     object\n",
      " 1   alpha-3    31 non-null     object\n",
      "dtypes: object(2)\n",
      "memory usage: 744.0+ bytes\n"
     ]
    }
   ],
   "source": [
    "country_df.info()"
   ]
  },
  {
   "cell_type": "code",
   "execution_count": 70,
   "id": "ec619ccc",
   "metadata": {},
   "outputs": [],
   "source": [
    "country_df.rename({'alpha-3':'country_code'}, axis = 1, inplace = True)"
   ]
  },
  {
   "cell_type": "code",
   "execution_count": 71,
   "id": "bc97140d",
   "metadata": {},
   "outputs": [
    {
     "data": {
      "text/plain": [
       "array(['BHS', 'BRB', 'BWA', 'CMR', 'CAN', 'ETH', 'FJI', 'GHA', 'GUY',\n",
       "       'IND', 'KEN', 'KIR', 'MYS', 'MLT', 'NZL', 'NGA', 'PAK', 'PNG',\n",
       "       'PHL', 'RWA', 'WSM', 'SGP', 'SLB', 'LKA', 'SDN', 'TON', 'TTO',\n",
       "       'USA', 'UMI', 'VUT', 'ZWE'], dtype=object)"
      ]
     },
     "execution_count": 71,
     "metadata": {},
     "output_type": "execute_result"
    }
   ],
   "source": [
    "country_df.country_code.unique()"
   ]
  },
  {
   "cell_type": "code",
   "execution_count": 72,
   "id": "0d4e0c43",
   "metadata": {},
   "outputs": [],
   "source": [
    "backup_df = df.copy()\n",
    "df_english_filtered = df.merge(country_df, on = \"country_code\", how = \"inner\")"
   ]
  },
  {
   "cell_type": "code",
   "execution_count": 73,
   "id": "bf5494cd",
   "metadata": {},
   "outputs": [
    {
     "name": "stdout",
     "output_type": "stream",
     "text": [
      "<class 'pandas.core.frame.DataFrame'>\n",
      "Int64Index: 12820 entries, 0 to 12819\n",
      "Data columns (total 9 columns):\n",
      " #   Column              Non-Null Count  Dtype  \n",
      "---  ------              --------------  -----  \n",
      " 0   permalink           12820 non-null  object \n",
      " 1   funding_round_type  12820 non-null  object \n",
      " 2   raised_amount_usd   12820 non-null  float64\n",
      " 3   name                12820 non-null  object \n",
      " 4   category_list       12820 non-null  object \n",
      " 5   status              12820 non-null  object \n",
      " 6   country_code        12820 non-null  object \n",
      " 7   scaled_amount       12820 non-null  float64\n",
      " 8   countries           12820 non-null  object \n",
      "dtypes: float64(2), object(7)\n",
      "memory usage: 1001.6+ KB\n"
     ]
    }
   ],
   "source": [
    "df_english_filtered.info()"
   ]
  },
  {
   "cell_type": "code",
   "execution_count": 74,
   "id": "cb9f90d4",
   "metadata": {},
   "outputs": [],
   "source": [
    "q2 = df_english_filtered.groupby('countries')['raised_amount_usd'].quantile([0.25, 0.75])\n",
    "###OutlierTreatment\n",
    "new_df2 = pd.DataFrame(columns = df_english_filtered.columns)\n",
    "for key in df_english_filtered.countries.unique():\n",
    "    IQR = q2[key][0.75] - q2[key][0.25]\n",
    "    upr_bound = q2[key][0.75] + (1.5*IQR)\n",
    "    df_copy = df_english_filtered[(df_english_filtered.countries == key) & (df_english_filtered.raised_amount_usd < upr_bound)]\n",
    "    new_df2 = pd.concat([new_df2, df_copy])\n"
   ]
  },
  {
   "cell_type": "code",
   "execution_count": 75,
   "id": "a8708ab7",
   "metadata": {},
   "outputs": [
    {
     "data": {
      "text/plain": [
       "unitedstates    12018\n",
       "canada            437\n",
       "india             255\n",
       "singapore          64\n",
       "newzealand         17\n",
       "nigeria             8\n",
       "malaysia            6\n",
       "kenya               3\n",
       "pakistan            3\n",
       "philippines         2\n",
       "Name: countries, dtype: int64"
      ]
     },
     "execution_count": 75,
     "metadata": {},
     "output_type": "execute_result"
    }
   ],
   "source": [
    "new_df2.countries.value_counts()"
   ]
  },
  {
   "cell_type": "code",
   "execution_count": 76,
   "id": "36ae863e",
   "metadata": {},
   "outputs": [
    {
     "data": {
      "text/plain": [
       "<AxesSubplot:>"
      ]
     },
     "execution_count": 76,
     "metadata": {},
     "output_type": "execute_result"
    },
    {
     "data": {
      "image/png": "[encoded data removed]",
      "text/plain": [
       "<Figure size 640x480 with 1 Axes>"
      ]
     },
     "metadata": {},
     "output_type": "display_data"
    }
   ],
   "source": [
    "sns.barplot(x = new_df2.countries.value_counts().keys()[1:4], y = new_df2.countries.value_counts().values[1:4] )"
   ]
  },
  {
   "cell_type": "code",
   "execution_count": 77,
   "id": "f31c6b68",
   "metadata": {
    "scrolled": true
   },
   "outputs": [
    {
     "data": {
      "text/plain": [
       "<AxesSubplot:xlabel='countries', ylabel='raised_amount_usd'>"
      ]
     },
     "execution_count": 77,
     "metadata": {},
     "output_type": "execute_result"
    },
    {
     "data": {
      "image/png": "[encoded data removed]",
      "text/plain": [
       "<Figure size 2000x1000 with 1 Axes>"
      ]
     },
     "metadata": {},
     "output_type": "display_data"
    }
   ],
   "source": [
    "plt.figure(figsize = [20,10])\n",
    "plt.xticks(rotation = 45)\n",
    "sns.boxplot(x = 'countries', y = 'raised_amount_usd', data = new_df2)"
   ]
  },
  {
   "cell_type": "code",
   "execution_count": 78,
   "id": "6c84bfc5",
   "metadata": {},
   "outputs": [
    {
     "name": "stdout",
     "output_type": "stream",
     "text": [
      "<class 'pandas.core.frame.DataFrame'>\n",
      "Int64Index: 12813 entries, 0 to 12817\n",
      "Data columns (total 9 columns):\n",
      " #   Column              Non-Null Count  Dtype  \n",
      "---  ------              --------------  -----  \n",
      " 0   permalink           12813 non-null  object \n",
      " 1   funding_round_type  12813 non-null  object \n",
      " 2   raised_amount_usd   12813 non-null  float64\n",
      " 3   name                12813 non-null  object \n",
      " 4   category_list       12813 non-null  object \n",
      " 5   status              12813 non-null  object \n",
      " 6   country_code        12813 non-null  object \n",
      " 7   scaled_amount       12813 non-null  float64\n",
      " 8   countries           12813 non-null  object \n",
      "dtypes: float64(2), object(7)\n",
      "memory usage: 1001.0+ KB\n"
     ]
    }
   ],
   "source": [
    "new_df2.info()"
   ]
  },
  {
   "cell_type": "code",
   "execution_count": 79,
   "id": "30617103",
   "metadata": {},
   "outputs": [],
   "source": [
    "df = new_df2.copy()"
   ]
  },
  {
   "cell_type": "markdown",
   "id": "028b4b2e",
   "metadata": {},
   "source": [
    "## part 4:  Sector wise analyisis"
   ]
  },
  {
   "cell_type": "code",
   "execution_count": 80,
   "id": "116fc722",
   "metadata": {},
   "outputs": [
    {
     "name": "stdout",
     "output_type": "stream",
     "text": [
      "<class 'pandas.core.frame.DataFrame'>\n",
      "RangeIndex: 688 entries, 0 to 687\n",
      "Data columns (total 10 columns):\n",
      " #   Column                                   Non-Null Count  Dtype \n",
      "---  ------                                   --------------  ----- \n",
      " 0   category_list                            687 non-null    object\n",
      " 1   Automotive & Sports                      688 non-null    int64 \n",
      " 2   Blanks                                   688 non-null    int64 \n",
      " 3   Cleantech / Semiconductors               688 non-null    int64 \n",
      " 4   Entertainment                            688 non-null    int64 \n",
      " 5   Health                                   688 non-null    int64 \n",
      " 6   Manufacturing                            688 non-null    int64 \n",
      " 7   News, Search and Messaging               688 non-null    int64 \n",
      " 8   Others                                   688 non-null    int64 \n",
      " 9   Social, Finance, Analytics, Advertising  688 non-null    int64 \n",
      "dtypes: int64(9), object(1)\n",
      "memory usage: 53.9+ KB\n"
     ]
    }
   ],
   "source": [
    "df_mapping = pd.read_csv(\"mapping.csv\")\n",
    "df_mapping.info()\n",
    "df_mapping = df_mapping.iloc[1:]"
   ]
  },
  {
   "cell_type": "code",
   "execution_count": 81,
   "id": "92ca6dc1",
   "metadata": {},
   "outputs": [],
   "source": [
    "df.category_list = df.category_list.str.lower()"
   ]
  },
  {
   "cell_type": "code",
   "execution_count": 82,
   "id": "bc78998c",
   "metadata": {},
   "outputs": [],
   "source": [
    "#df_mapping.category_list = df_mapping.category_list.str.lower()"
   ]
  },
  {
   "cell_type": "code",
   "execution_count": 83,
   "id": "411e4dc1",
   "metadata": {},
   "outputs": [
    {
     "data": {
      "text/plain": [
       "array(['3D', '3D Printing', '3D Technology', 'Accounting',\n",
       "       'Active Lifestyle', 'Ad Targeting', 'Advanced Materials',\n",
       "       'Adventure Travel', 'Advertising', 'Advertising Exchanges',\n",
       "       'Advertising Networks', 'Advertising Platforms', 'Advice',\n",
       "       'Aerospace', 'Agriculture', 'Air Pollution Control', 'Algorithms',\n",
       "       'All Markets', 'All Students', 'Alter0tive Medicine', 'Alumni',\n",
       "       'A0lytics', 'Android', 'Angels', 'Animal Feed',\n",
       "       'Anything Capital Intensive', 'App Discovery', 'App Marketing',\n",
       "       'App Stores', 'Application Performance Monitoring',\n",
       "       'Application Platforms', 'Apps', 'Aquaculture', 'Architecture',\n",
       "       'Archiving', 'Art', 'Artificial Intelligence', 'Artists Globally',\n",
       "       'Assisitive Technology', 'Assisted Living', 'Auctions', 'Audio',\n",
       "       'Audiobooks', 'Augmented Reality', 'Auto', 'Automated Kiosk',\n",
       "       'Automotive', 'B2B', 'B2B Express Delivery', 'Babies',\n",
       "       'Baby Accessories', 'Baby Boomers', 'Baby Safety', 'Banking',\n",
       "       'Batteries', 'Beauty', 'Bicycles', 'Big Data', 'Big Data A0lytics',\n",
       "       'Billing', 'Bio-Pharm', 'Biofuels', 'Bioinformatics',\n",
       "       'Biomass Power Generation', 'Biometrics', 'Biotechnology',\n",
       "       'Bitcoin', 'Blogging Platforms', 'Boating Industry',\n",
       "       'BPO Services', 'Brand Marketing', 'Brewing',\n",
       "       'Bridging Online and Offline', 'Broadcasting', 'Brokers',\n",
       "       'Browser Extensions', 'Building Owners', 'Building Products',\n",
       "       'Business A0lytics', 'Business Development',\n",
       "       'Business Information Systems', 'Business Intelligence',\n",
       "       'Business Productivity', 'Business Services', 'Business Travelers',\n",
       "       'Cable', 'CAD', 'Call Center Automation', 'Can0bis', 'Carbon',\n",
       "       'Career Ma0gement', 'Career Planning', 'Cars', 'Casual Games',\n",
       "       'Celebrity', 'Certification Test', 'Charities', 'Charity',\n",
       "       'Charter Schools', 'Chat', 'Chemicals', 'Child Care',\n",
       "       'Chi0 Internet', 'Civil Engineers', 'Classifieds', 'Clean Energy',\n",
       "       'Clean Technology', 'Clean Technology IT', 'Clinical Trials',\n",
       "       'Cloud-Based Music', 'Cloud Computing', 'Cloud Data Services',\n",
       "       'Cloud Infrastructure', 'Cloud Ma0gement', 'Cloud Security',\n",
       "       'Coffee', 'Collaboration', 'Collaborative Consumption',\n",
       "       'Collectibles', 'College Campuses', 'College Recruiting',\n",
       "       'Colleges', 'Comics', 'Commercial Real Estate', 'Commercial Solar',\n",
       "       'Commodities', 'Communications Hardware',\n",
       "       'Communications Infrastructure', 'Communities',\n",
       "       'Comparison Shopping', 'Computer Vision', 'Computers',\n",
       "       'Concentrated Solar Power', 'Concerts', 'Console Gaming',\n",
       "       'Construction', 'Consulting', 'Consumer Behavior',\n",
       "       'Consumer Electronics', 'Consumer Goods', 'Consumer Internet',\n",
       "       'Consumer Lending', 'Consumers', 'Contact Centers',\n",
       "       'Contact Ma0gement', 'Content', 'Content Creators',\n",
       "       'Content Delivery', 'Content Discovery', 'Content Syndication',\n",
       "       'Contests', 'Cooking', 'Corporate IT', 'Corporate Training',\n",
       "       'Corporate Wellness', 'Cosmetic Surgery', 'Cosmetics', 'Coupons',\n",
       "       'Coworking', 'Craft Beer', 'Creative', 'Creative Industries',\n",
       "       'Credit', 'Credit Cards', 'CRM', 'Crowdfunding', 'Crowdsourcing',\n",
       "       'Curated Web', 'Custom Retail', 'Customer Service',\n",
       "       'Customer Support Tools', 'Cyber', 'Cyber Security',\n",
       "       'Data Center Automation', 'Data Center Infrastructure',\n",
       "       'Data Centers', 'Data Integration', 'Data Mining', 'Data Privacy',\n",
       "       'Data Security', 'Data Visualization', 'Databases',\n",
       "       'Debt Collecting', 'Defense', 'Delivery', 'Demographies', 'Dental',\n",
       "       'Design', 'Designers', 'Developer APIs', 'Developer Tools',\n",
       "       'Development Platforms', 'Diabetes', 'Diagnostics',\n",
       "       'Dietary Supplements', 'Digital Entertainment', 'Digital Media',\n",
       "       'Digital Rights Ma0gement', 'Digital Sig0ge', 'Direct Advertising',\n",
       "       'Direct Marketing', 'Direct Sales', 'Discounts', 'Displays',\n",
       "       'Disruptive Models', 'Distribution', 'Distributors', 'DIY',\n",
       "       'Doctors', 'Document Ma0gement', 'DOD/Military', 'Domains',\n",
       "       'Drones', 'E-Books', 'E-Commerce', 'E-Commerce Platforms',\n",
       "       'Early-Stage Technology', 'EBooks', 'EDA Tools', 'Ediscovery',\n",
       "       'EdTech', 'Education', 'Educatio0l Games', 'Edutainment',\n",
       "       'Elder Care', 'Electric Vehicles', 'Electrical Distribution',\n",
       "       'Electronic Health Records', 'Electronics', 'Email',\n",
       "       'Email Marketing', 'Email Newsletters',\n",
       "       'Embedded Hardware and Software', 'Emerging Markets',\n",
       "       'Employer Benefits Programs', 'Employment', 'Energy',\n",
       "       'Energy Efficiency', 'Energy IT', 'Energy Ma0gement',\n",
       "       'Energy Storage', 'Engineering Firms', 'Enterprise 2.0',\n",
       "       'Enterprise Application', 'Enterprise Purchasing',\n",
       "       'Enterprise Resource Planning', 'Enterprise Search',\n",
       "       'Enterprise Security', 'Enterprise Software', 'Enterprises',\n",
       "       'Entertainment', 'Entertainment Industry', 'Entrepreneur',\n",
       "       'Environmental Innovation', 'Estimation and Quoting',\n",
       "       'Event Ma0gement', 'Events', 'Exercise', 'Eyewear',\n",
       "       'Face Recognition', 'Facebook Applications', 'Families',\n",
       "       'Fantasy Sports', 'Farmers Market', 'Farming', 'Fashion',\n",
       "       'Fertility', 'Field Support Services', 'File Sharing', 'Film',\n",
       "       'Film Distribution', 'Film Production', 'Fi0nce',\n",
       "       'Fi0nce Technology', 'Fi0ncial Exchanges', 'Fi0ncial Services',\n",
       "       'FinTech', 'Fitness', 'Flash Sales', 'Flash Storage',\n",
       "       'Fleet Ma0gement', 'Flowers', 'Fmcg', 'Food Processing', 'Forums',\n",
       "       'Fraud Detection', 'Freelancers', 'Freemium', 'FreetoPlay Gaming',\n",
       "       'Fruit', 'Fuel Cells', 'Fuels', 'Funeral Industry', 'Furniture',\n",
       "       'Gadget', 'Gambling', 'Game', 'Game Mechanics', 'Games',\n",
       "       'Gamification', 'Gas', 'Gay & Lesbian', 'General Public Worldwide',\n",
       "       'Genetic Testing', 'Geospatial', 'Gift Card', 'Gift Exchange',\n",
       "       'Gift Registries', 'Gold', 'Gover0nce', 'Government Innovation',\n",
       "       'Governments', 'Gps', 'Graphics', 'Green', 'Green Consumer Goods',\n",
       "       'Groceries', 'Group Buying', 'Group SMS', 'Guides', 'Handmade',\n",
       "       'Hardware', 'Hardware + Software', 'Health and Insurance',\n",
       "       'Health and Wellness', 'Health Care',\n",
       "       'Health Care Information Technology', 'Health Diagnostics',\n",
       "       'Health Services Industry', 'Healthcare Services',\n",
       "       'Heavy Industry', 'Hedge Funds', 'High School Students',\n",
       "       'High Schools', 'High Tech', 'Home & Garden', 'Home Automation',\n",
       "       'Home Decor', 'Home Owners', 'Home Renovation',\n",
       "       'Homeland Security', 'Homeless Shelter', 'Hospitality',\n",
       "       'Hospitals', 'Hotels', 'Human Computer Interaction',\n",
       "       'Human Resource Automation', 'Human Resources', 'Humanitarian',\n",
       "       'IaaS', 'ICT', 'Identity', 'Identity Ma0gement',\n",
       "       'Image Recognition', 'Impact Investing', 'In-Flight Entertainment',\n",
       "       'Incentives', 'Incubators', 'Independent Music Labels',\n",
       "       'Independent Pharmacies', 'Indians', 'Indoor Positioning',\n",
       "       'Industrial', 'Industrial Automation', 'Information Security',\n",
       "       'Information Services', 'Information Technology', 'Infrastructure',\n",
       "       'Innovation Engineering', 'Innovation Ma0gement', 'Insurance',\n",
       "       'Intellectual Asset Ma0gement', 'Intellectual Property',\n",
       "       'Intelligent Systems', 'Interest Graph', 'Interface Design',\n",
       "       'Interior Design', 'Internet', 'Internet Infrastructure',\n",
       "       'Internet Marketing', 'Internet of Things',\n",
       "       'Internet Radio Market', 'Internet Service Providers',\n",
       "       'Investment Ma0gement', 'iOS', 'iPad', 'iPhone',\n",
       "       'IT and Cybersecurity', 'IT Ma0gement', 'Jewelry', 'Jour0lism',\n",
       "       'K-12 Education', 'Kids', 'Knowledge Ma0gement', 'Landscaping',\n",
       "       'Language Learning', 'Lasers', 'Law Enforcement',\n",
       "       'Lead Generation', 'Lead Ma0gement', 'Legal', 'Leisure',\n",
       "       'Licensing', 'Life Sciences', 'Lifestyle', 'Lifestyle Businesses',\n",
       "       'Lifestyle Products', 'Lighting', 'Limousines', 'Linux', 'Local',\n",
       "       'Local Advertising', 'Local Based Services', 'Local Businesses',\n",
       "       'Local Commerce', 'Local Search', 'Location Based Services',\n",
       "       'Logistics', 'Logistics Company', 'Lotteries', 'Low Bid Auctions',\n",
       "       'Loyalty Programs', 'M2M', 'Machine Learning', 'Manufacturing',\n",
       "       'Maps', 'Market Research', 'Marketing Automation', 'Marketplaces',\n",
       "       'Mass Customization', 'Match-Making', 'Material Science',\n",
       "       'Mechanical Solutions', 'Media', 'Medical', 'Medical Devices',\n",
       "       'Medical Professio0ls', 'Meeting Software', 'Mens Specific',\n",
       "       'Messaging', 'mHealth', 'Micro-Enterprises', 'MicroBlogging',\n",
       "       'Minerals', 'Mining Technologies', 'Mobile', 'Mobile Advertising',\n",
       "       'Mobile A0lytics', 'Mobile Commerce', 'Mobile Devices',\n",
       "       'Mobile Enterprise', 'Mobile Games', 'Mobile Health',\n",
       "       'Mobile Infrastructure', 'Mobile Payments', 'Mobile Security',\n",
       "       'Mobile Shopping', 'Mobile Social', 'Mobile Software Tools',\n",
       "       'Mobile Video', 'Mobility', 'Monetization', 'Moneymaking',\n",
       "       'Multi-level Marketing', 'Music', 'Music Education',\n",
       "       'Music Services', 'Music Venues', 'Musical Instruments',\n",
       "       'Musicians', '0notechnology', '0tural Language Processing',\n",
       "       '0tural Resources', '0vigation', 'Network Security', 'Networking',\n",
       "       'Neuroscience', 'New Product Development', 'New Technologies',\n",
       "       'News', 'Non-Tech', 'Non Profit', 'Nonprofits', 'Nutrition',\n",
       "       'Office Space', 'Oil', 'Oil & Gas', 'Oil and Gas', 'Online Dating',\n",
       "       'Online Education', 'Online Gaming', 'Online Identity',\n",
       "       'Online Rental', 'Online Reservations', 'Online Scheduling',\n",
       "       'Online Shopping', 'Online Travel', 'Online Video Advertising',\n",
       "       'Open Source', 'Opinions', 'Optical Communications',\n",
       "       'Optimization', 'Organic', 'Organic Food', 'Outdoors',\n",
       "       'Outsourcing', 'P2P Money Transfer', 'PaaS', 'Parenting',\n",
       "       'Parking', 'Payments', 'Peer-to-Peer', 'Performance Marketing',\n",
       "       'Perso0l Branding', 'Perso0l Data', 'Perso0l Fi0nce',\n",
       "       'Perso0l Health', 'Perso0lization', 'Pervasive Computing', 'Pets',\n",
       "       'Pharmaceuticals', 'Photo Editing', 'Photo Sharing', 'Photography',\n",
       "       'Physical Security', 'Physicians', 'Plumbers', 'Point of Sale',\n",
       "       'Politics', 'Polling', 'Portals', 'Postal and Courier Services',\n",
       "       'Pre Seed', 'Predictive A0lytics', 'Presentations',\n",
       "       'Price Comparison', 'Printing', 'Privacy', 'Private School',\n",
       "       'Private Social Networking', 'Procurement', 'Product Design',\n",
       "       'Product Development Services', 'Productivity',\n",
       "       'Productivity Software', 'Professio0l Networking',\n",
       "       'Professio0l Services', 'Project Ma0gement', 'Promotio0l',\n",
       "       'Property Ma0gement', 'Public Relations', 'Public Safety',\n",
       "       'Public Transportation', 'Publishing', 'Q&A', 'QR Codes',\n",
       "       'Real Estate', 'Real Time', 'Realtors', 'Recreation', 'Recruiting',\n",
       "       'Recycling', 'Religion', 'Renewable Energies', 'Renewable Tech',\n",
       "       'Rental Housing', 'Reputation', 'Resorts', 'Restaurants', 'Retail',\n",
       "       'Retail Technology', 'Reviews and Recommendations', 'RFID',\n",
       "       'Ride Sharing', 'Risk Ma0gement', 'Robotics', 'SaaS',\n",
       "       'Sales and Marketing', 'Sales Automation', 'Search',\n",
       "       'Search Marketing', 'Security',\n",
       "       'Semiconductor Manufacturing Equipment', 'Semiconductors',\n",
       "       'Senior Citizens', 'Senior Health', 'Sensors', 'SEO',\n",
       "       'Service Industries', 'Service Providers', 'Services', 'SexTech',\n",
       "       'Shared Services', 'Shipping', 'Shoes', 'Shopping', 'Simulation',\n",
       "       'Skill Assessment', 'Small and Medium Businesses', 'Smart Grid',\n",
       "       'SNS', 'Soccer', 'Social + Mobile + Local', 'Social Bookmarking',\n",
       "       'Social Business', 'Social Buying', 'Social Commerce',\n",
       "       'Social CRM', 'Social Fundraising', 'Social Games', 'Social Media',\n",
       "       'Social Media Ma0gement', 'Social Media Marketing',\n",
       "       'Social Media Platforms', 'Social Network Media', 'Social News',\n",
       "       'Social Recruiting', 'Social Television', 'Social Travel',\n",
       "       'Software', 'Solar', 'Space Travel', 'Specialty Chemicals',\n",
       "       'Specialty Foods', 'Speech Recognition', 'Sporting Goods',\n",
       "       'Sports', 'Staffing Firms', 'Startups', 'Stock Exchanges',\n",
       "       'Storage', 'Subscription Service', 'Supply Chain Ma0gement',\n",
       "       'Surveys', 'Synchronization', 'Systems', 'Task Ma0gement', 'Taxis',\n",
       "       'Tea', 'Technology', 'Telecommunications', 'Television',\n",
       "       'Textiles', 'Theatre', 'Therapeutics', 'Ticketing', 'Tourism',\n",
       "       'Tracking', 'Trading', 'Training', 'Translation', 'Transportation',\n",
       "       'Travel', 'Travel & Tourism', 'Universities',\n",
       "       'University Students', 'Unmanned Air Systems', 'Usability',\n",
       "       'User Experience Design', 'User Interface', 'Utilities',\n",
       "       'Vending and Concessions', 'Venture Capital', 'Veteri0ry', 'Video',\n",
       "       'Video Conferencing', 'Video Games', 'Video on Demand',\n",
       "       'Video Streaming', 'Virtual Workforces', 'VoIP', 'Waste Ma0gement',\n",
       "       'Watch', 'Water', 'Water Purification', 'Wearables',\n",
       "       'Web Browsers', 'Web Design', 'Web Development', 'Web Hosting',\n",
       "       'Web Tools', 'Weddings', 'Wholesale', 'Wine And Spirits',\n",
       "       'Wireless', 'Women', 'Young Adults'], dtype=object)"
      ]
     },
     "execution_count": 83,
     "metadata": {},
     "output_type": "execute_result"
    }
   ],
   "source": [
    "df_mapping.category_list.unique()"
   ]
  },
  {
   "cell_type": "markdown",
   "id": "ebb66af1",
   "metadata": {},
   "source": [
    "# Observation -> na in words has been replaced with Zero\n",
    "\n",
    "alternative : alter0tive\n",
    "analytics : a0lytics\n",
    "management : ma0gement"
   ]
  },
  {
   "cell_type": "code",
   "execution_count": 84,
   "id": "f5c6a545",
   "metadata": {},
   "outputs": [],
   "source": [
    "df_mapping.category_list = df_mapping.category_list.str.replace('0','na')"
   ]
  },
  {
   "cell_type": "code",
   "execution_count": 85,
   "id": "33a6ab74",
   "metadata": {},
   "outputs": [
    {
     "data": {
      "text/plain": [
       "array(['3D', '3D Printing', '3D Technology', 'Accounting',\n",
       "       'Active Lifestyle', 'Ad Targeting', 'Advanced Materials',\n",
       "       'Adventure Travel', 'Advertising', 'Advertising Exchanges',\n",
       "       'Advertising Networks', 'Advertising Platforms', 'Advice',\n",
       "       'Aerospace', 'Agriculture', 'Air Pollution Control', 'Algorithms',\n",
       "       'All Markets', 'All Students', 'Alternative Medicine', 'Alumni',\n",
       "       'Analytics', 'Android', 'Angels', 'Animal Feed',\n",
       "       'Anything Capital Intensive', 'App Discovery', 'App Marketing',\n",
       "       'App Stores', 'Application Performance Monitoring',\n",
       "       'Application Platforms', 'Apps', 'Aquaculture', 'Architecture',\n",
       "       'Archiving', 'Art', 'Artificial Intelligence', 'Artists Globally',\n",
       "       'Assisitive Technology', 'Assisted Living', 'Auctions', 'Audio',\n",
       "       'Audiobooks', 'Augmented Reality', 'Auto', 'Automated Kiosk',\n",
       "       'Automotive', 'B2B', 'B2B Express Delivery', 'Babies',\n",
       "       'Baby Accessories', 'Baby Boomers', 'Baby Safety', 'Banking',\n",
       "       'Batteries', 'Beauty', 'Bicycles', 'Big Data',\n",
       "       'Big Data Analytics', 'Billing', 'Bio-Pharm', 'Biofuels',\n",
       "       'Bioinformatics', 'Biomass Power Generation', 'Biometrics',\n",
       "       'Biotechnology', 'Bitcoin', 'Blogging Platforms',\n",
       "       'Boating Industry', 'BPO Services', 'Brand Marketing', 'Brewing',\n",
       "       'Bridging Online and Offline', 'Broadcasting', 'Brokers',\n",
       "       'Browser Extensions', 'Building Owners', 'Building Products',\n",
       "       'Business Analytics', 'Business Development',\n",
       "       'Business Information Systems', 'Business Intelligence',\n",
       "       'Business Productivity', 'Business Services', 'Business Travelers',\n",
       "       'Cable', 'CAD', 'Call Center Automation', 'Cannabis', 'Carbon',\n",
       "       'Career Management', 'Career Planning', 'Cars', 'Casual Games',\n",
       "       'Celebrity', 'Certification Test', 'Charities', 'Charity',\n",
       "       'Charter Schools', 'Chat', 'Chemicals', 'Child Care',\n",
       "       'China Internet', 'Civil Engineers', 'Classifieds', 'Clean Energy',\n",
       "       'Clean Technology', 'Clean Technology IT', 'Clinical Trials',\n",
       "       'Cloud-Based Music', 'Cloud Computing', 'Cloud Data Services',\n",
       "       'Cloud Infrastructure', 'Cloud Management', 'Cloud Security',\n",
       "       'Coffee', 'Collaboration', 'Collaborative Consumption',\n",
       "       'Collectibles', 'College Campuses', 'College Recruiting',\n",
       "       'Colleges', 'Comics', 'Commercial Real Estate', 'Commercial Solar',\n",
       "       'Commodities', 'Communications Hardware',\n",
       "       'Communications Infrastructure', 'Communities',\n",
       "       'Comparison Shopping', 'Computer Vision', 'Computers',\n",
       "       'Concentrated Solar Power', 'Concerts', 'Console Gaming',\n",
       "       'Construction', 'Consulting', 'Consumer Behavior',\n",
       "       'Consumer Electronics', 'Consumer Goods', 'Consumer Internet',\n",
       "       'Consumer Lending', 'Consumers', 'Contact Centers',\n",
       "       'Contact Management', 'Content', 'Content Creators',\n",
       "       'Content Delivery', 'Content Discovery', 'Content Syndication',\n",
       "       'Contests', 'Cooking', 'Corporate IT', 'Corporate Training',\n",
       "       'Corporate Wellness', 'Cosmetic Surgery', 'Cosmetics', 'Coupons',\n",
       "       'Coworking', 'Craft Beer', 'Creative', 'Creative Industries',\n",
       "       'Credit', 'Credit Cards', 'CRM', 'Crowdfunding', 'Crowdsourcing',\n",
       "       'Curated Web', 'Custom Retail', 'Customer Service',\n",
       "       'Customer Support Tools', 'Cyber', 'Cyber Security',\n",
       "       'Data Center Automation', 'Data Center Infrastructure',\n",
       "       'Data Centers', 'Data Integration', 'Data Mining', 'Data Privacy',\n",
       "       'Data Security', 'Data Visualization', 'Databases',\n",
       "       'Debt Collecting', 'Defense', 'Delivery', 'Demographies', 'Dental',\n",
       "       'Design', 'Designers', 'Developer APIs', 'Developer Tools',\n",
       "       'Development Platforms', 'Diabetes', 'Diagnostics',\n",
       "       'Dietary Supplements', 'Digital Entertainment', 'Digital Media',\n",
       "       'Digital Rights Management', 'Digital Signage',\n",
       "       'Direct Advertising', 'Direct Marketing', 'Direct Sales',\n",
       "       'Discounts', 'Displays', 'Disruptive Models', 'Distribution',\n",
       "       'Distributors', 'DIY', 'Doctors', 'Document Management',\n",
       "       'DOD/Military', 'Domains', 'Drones', 'E-Books', 'E-Commerce',\n",
       "       'E-Commerce Platforms', 'Early-Stage Technology', 'EBooks',\n",
       "       'EDA Tools', 'Ediscovery', 'EdTech', 'Education',\n",
       "       'Educational Games', 'Edutainment', 'Elder Care',\n",
       "       'Electric Vehicles', 'Electrical Distribution',\n",
       "       'Electronic Health Records', 'Electronics', 'Email',\n",
       "       'Email Marketing', 'Email Newsletters',\n",
       "       'Embedded Hardware and Software', 'Emerging Markets',\n",
       "       'Employer Benefits Programs', 'Employment', 'Energy',\n",
       "       'Energy Efficiency', 'Energy IT', 'Energy Management',\n",
       "       'Energy Storage', 'Engineering Firms', 'Enterprise 2.na',\n",
       "       'Enterprise Application', 'Enterprise Purchasing',\n",
       "       'Enterprise Resource Planning', 'Enterprise Search',\n",
       "       'Enterprise Security', 'Enterprise Software', 'Enterprises',\n",
       "       'Entertainment', 'Entertainment Industry', 'Entrepreneur',\n",
       "       'Environmental Innovation', 'Estimation and Quoting',\n",
       "       'Event Management', 'Events', 'Exercise', 'Eyewear',\n",
       "       'Face Recognition', 'Facebook Applications', 'Families',\n",
       "       'Fantasy Sports', 'Farmers Market', 'Farming', 'Fashion',\n",
       "       'Fertility', 'Field Support Services', 'File Sharing', 'Film',\n",
       "       'Film Distribution', 'Film Production', 'Finance',\n",
       "       'Finance Technology', 'Financial Exchanges', 'Financial Services',\n",
       "       'FinTech', 'Fitness', 'Flash Sales', 'Flash Storage',\n",
       "       'Fleet Management', 'Flowers', 'Fmcg', 'Food Processing', 'Forums',\n",
       "       'Fraud Detection', 'Freelancers', 'Freemium', 'FreetoPlay Gaming',\n",
       "       'Fruit', 'Fuel Cells', 'Fuels', 'Funeral Industry', 'Furniture',\n",
       "       'Gadget', 'Gambling', 'Game', 'Game Mechanics', 'Games',\n",
       "       'Gamification', 'Gas', 'Gay & Lesbian', 'General Public Worldwide',\n",
       "       'Genetic Testing', 'Geospatial', 'Gift Card', 'Gift Exchange',\n",
       "       'Gift Registries', 'Gold', 'Governance', 'Government Innovation',\n",
       "       'Governments', 'Gps', 'Graphics', 'Green', 'Green Consumer Goods',\n",
       "       'Groceries', 'Group Buying', 'Group SMS', 'Guides', 'Handmade',\n",
       "       'Hardware', 'Hardware + Software', 'Health and Insurance',\n",
       "       'Health and Wellness', 'Health Care',\n",
       "       'Health Care Information Technology', 'Health Diagnostics',\n",
       "       'Health Services Industry', 'Healthcare Services',\n",
       "       'Heavy Industry', 'Hedge Funds', 'High School Students',\n",
       "       'High Schools', 'High Tech', 'Home & Garden', 'Home Automation',\n",
       "       'Home Decor', 'Home Owners', 'Home Renovation',\n",
       "       'Homeland Security', 'Homeless Shelter', 'Hospitality',\n",
       "       'Hospitals', 'Hotels', 'Human Computer Interaction',\n",
       "       'Human Resource Automation', 'Human Resources', 'Humanitarian',\n",
       "       'IaaS', 'ICT', 'Identity', 'Identity Management',\n",
       "       'Image Recognition', 'Impact Investing', 'In-Flight Entertainment',\n",
       "       'Incentives', 'Incubators', 'Independent Music Labels',\n",
       "       'Independent Pharmacies', 'Indians', 'Indoor Positioning',\n",
       "       'Industrial', 'Industrial Automation', 'Information Security',\n",
       "       'Information Services', 'Information Technology', 'Infrastructure',\n",
       "       'Innovation Engineering', 'Innovation Management', 'Insurance',\n",
       "       'Intellectual Asset Management', 'Intellectual Property',\n",
       "       'Intelligent Systems', 'Interest Graph', 'Interface Design',\n",
       "       'Interior Design', 'Internet', 'Internet Infrastructure',\n",
       "       'Internet Marketing', 'Internet of Things',\n",
       "       'Internet Radio Market', 'Internet Service Providers',\n",
       "       'Investment Management', 'iOS', 'iPad', 'iPhone',\n",
       "       'IT and Cybersecurity', 'IT Management', 'Jewelry', 'Journalism',\n",
       "       'K-12 Education', 'Kids', 'Knowledge Management', 'Landscaping',\n",
       "       'Language Learning', 'Lasers', 'Law Enforcement',\n",
       "       'Lead Generation', 'Lead Management', 'Legal', 'Leisure',\n",
       "       'Licensing', 'Life Sciences', 'Lifestyle', 'Lifestyle Businesses',\n",
       "       'Lifestyle Products', 'Lighting', 'Limousines', 'Linux', 'Local',\n",
       "       'Local Advertising', 'Local Based Services', 'Local Businesses',\n",
       "       'Local Commerce', 'Local Search', 'Location Based Services',\n",
       "       'Logistics', 'Logistics Company', 'Lotteries', 'Low Bid Auctions',\n",
       "       'Loyalty Programs', 'M2M', 'Machine Learning', 'Manufacturing',\n",
       "       'Maps', 'Market Research', 'Marketing Automation', 'Marketplaces',\n",
       "       'Mass Customization', 'Match-Making', 'Material Science',\n",
       "       'Mechanical Solutions', 'Media', 'Medical', 'Medical Devices',\n",
       "       'Medical Professionals', 'Meeting Software', 'Mens Specific',\n",
       "       'Messaging', 'mHealth', 'Micro-Enterprises', 'MicroBlogging',\n",
       "       'Minerals', 'Mining Technologies', 'Mobile', 'Mobile Advertising',\n",
       "       'Mobile Analytics', 'Mobile Commerce', 'Mobile Devices',\n",
       "       'Mobile Enterprise', 'Mobile Games', 'Mobile Health',\n",
       "       'Mobile Infrastructure', 'Mobile Payments', 'Mobile Security',\n",
       "       'Mobile Shopping', 'Mobile Social', 'Mobile Software Tools',\n",
       "       'Mobile Video', 'Mobility', 'Monetization', 'Moneymaking',\n",
       "       'Multi-level Marketing', 'Music', 'Music Education',\n",
       "       'Music Services', 'Music Venues', 'Musical Instruments',\n",
       "       'Musicians', 'nanotechnology', 'natural Language Processing',\n",
       "       'natural Resources', 'navigation', 'Network Security',\n",
       "       'Networking', 'Neuroscience', 'New Product Development',\n",
       "       'New Technologies', 'News', 'Non-Tech', 'Non Profit', 'Nonprofits',\n",
       "       'Nutrition', 'Office Space', 'Oil', 'Oil & Gas', 'Oil and Gas',\n",
       "       'Online Dating', 'Online Education', 'Online Gaming',\n",
       "       'Online Identity', 'Online Rental', 'Online Reservations',\n",
       "       'Online Scheduling', 'Online Shopping', 'Online Travel',\n",
       "       'Online Video Advertising', 'Open Source', 'Opinions',\n",
       "       'Optical Communications', 'Optimization', 'Organic',\n",
       "       'Organic Food', 'Outdoors', 'Outsourcing', 'P2P Money Transfer',\n",
       "       'PaaS', 'Parenting', 'Parking', 'Payments', 'Peer-to-Peer',\n",
       "       'Performance Marketing', 'Personal Branding', 'Personal Data',\n",
       "       'Personal Finance', 'Personal Health', 'Personalization',\n",
       "       'Pervasive Computing', 'Pets', 'Pharmaceuticals', 'Photo Editing',\n",
       "       'Photo Sharing', 'Photography', 'Physical Security', 'Physicians',\n",
       "       'Plumbers', 'Point of Sale', 'Politics', 'Polling', 'Portals',\n",
       "       'Postal and Courier Services', 'Pre Seed', 'Predictive Analytics',\n",
       "       'Presentations', 'Price Comparison', 'Printing', 'Privacy',\n",
       "       'Private School', 'Private Social Networking', 'Procurement',\n",
       "       'Product Design', 'Product Development Services', 'Productivity',\n",
       "       'Productivity Software', 'Professional Networking',\n",
       "       'Professional Services', 'Project Management', 'Promotional',\n",
       "       'Property Management', 'Public Relations', 'Public Safety',\n",
       "       'Public Transportation', 'Publishing', 'Q&A', 'QR Codes',\n",
       "       'Real Estate', 'Real Time', 'Realtors', 'Recreation', 'Recruiting',\n",
       "       'Recycling', 'Religion', 'Renewable Energies', 'Renewable Tech',\n",
       "       'Rental Housing', 'Reputation', 'Resorts', 'Restaurants', 'Retail',\n",
       "       'Retail Technology', 'Reviews and Recommendations', 'RFID',\n",
       "       'Ride Sharing', 'Risk Management', 'Robotics', 'SaaS',\n",
       "       'Sales and Marketing', 'Sales Automation', 'Search',\n",
       "       'Search Marketing', 'Security',\n",
       "       'Semiconductor Manufacturing Equipment', 'Semiconductors',\n",
       "       'Senior Citizens', 'Senior Health', 'Sensors', 'SEO',\n",
       "       'Service Industries', 'Service Providers', 'Services', 'SexTech',\n",
       "       'Shared Services', 'Shipping', 'Shoes', 'Shopping', 'Simulation',\n",
       "       'Skill Assessment', 'Small and Medium Businesses', 'Smart Grid',\n",
       "       'SNS', 'Soccer', 'Social + Mobile + Local', 'Social Bookmarking',\n",
       "       'Social Business', 'Social Buying', 'Social Commerce',\n",
       "       'Social CRM', 'Social Fundraising', 'Social Games', 'Social Media',\n",
       "       'Social Media Management', 'Social Media Marketing',\n",
       "       'Social Media Platforms', 'Social Network Media', 'Social News',\n",
       "       'Social Recruiting', 'Social Television', 'Social Travel',\n",
       "       'Software', 'Solar', 'Space Travel', 'Specialty Chemicals',\n",
       "       'Specialty Foods', 'Speech Recognition', 'Sporting Goods',\n",
       "       'Sports', 'Staffing Firms', 'Startups', 'Stock Exchanges',\n",
       "       'Storage', 'Subscription Service', 'Supply Chain Management',\n",
       "       'Surveys', 'Synchronization', 'Systems', 'Task Management',\n",
       "       'Taxis', 'Tea', 'Technology', 'Telecommunications', 'Television',\n",
       "       'Textiles', 'Theatre', 'Therapeutics', 'Ticketing', 'Tourism',\n",
       "       'Tracking', 'Trading', 'Training', 'Translation', 'Transportation',\n",
       "       'Travel', 'Travel & Tourism', 'Universities',\n",
       "       'University Students', 'Unmanned Air Systems', 'Usability',\n",
       "       'User Experience Design', 'User Interface', 'Utilities',\n",
       "       'Vending and Concessions', 'Venture Capital', 'Veterinary',\n",
       "       'Video', 'Video Conferencing', 'Video Games', 'Video on Demand',\n",
       "       'Video Streaming', 'Virtual Workforces', 'VoIP',\n",
       "       'Waste Management', 'Watch', 'Water', 'Water Purification',\n",
       "       'Wearables', 'Web Browsers', 'Web Design', 'Web Development',\n",
       "       'Web Hosting', 'Web Tools', 'Weddings', 'Wholesale',\n",
       "       'Wine And Spirits', 'Wireless', 'Women', 'Young Adults'],\n",
       "      dtype=object)"
      ]
     },
     "execution_count": 85,
     "metadata": {},
     "output_type": "execute_result"
    }
   ],
   "source": [
    "df_mapping.category_list.unique()"
   ]
  },
  {
   "cell_type": "code",
   "execution_count": 86,
   "id": "bee4305b",
   "metadata": {},
   "outputs": [
    {
     "data": {
      "text/plain": [
       "0                                               media\n",
       "1                                          e-commerce\n",
       "2                                             finance\n",
       "3                               entertainment|tourism\n",
       "4        finance|finance technology|fintech|insurance\n",
       "                             ...                     \n",
       "12812                           business intelligence\n",
       "12813                                          mobile\n",
       "12814                                     curated web\n",
       "12815                    career management|employment\n",
       "12817                                          sports\n",
       "Name: category_list, Length: 12813, dtype: object"
      ]
     },
     "execution_count": 86,
     "metadata": {},
     "output_type": "execute_result"
    }
   ],
   "source": [
    "df.category_list"
   ]
  },
  {
   "cell_type": "code",
   "execution_count": 87,
   "id": "0c313d4c",
   "metadata": {},
   "outputs": [],
   "source": [
    "df.category_list = df.category_list.str.split(\"|\")"
   ]
  },
  {
   "cell_type": "markdown",
   "id": "336baf3b",
   "metadata": {},
   "source": [
    "### Keeping only first category, to be the major category in main dataframe"
   ]
  },
  {
   "cell_type": "code",
   "execution_count": 88,
   "id": "a8e80a92",
   "metadata": {},
   "outputs": [],
   "source": [
    "df.category_list = df.category_list.apply(lambda x : x[0])"
   ]
  },
  {
   "cell_type": "code",
   "execution_count": 89,
   "id": "c07a329a",
   "metadata": {},
   "outputs": [
    {
     "data": {
      "text/plain": [
       "0                        media\n",
       "1                   e-commerce\n",
       "2                      finance\n",
       "3                entertainment\n",
       "4                      finance\n",
       "                 ...          \n",
       "12812    business intelligence\n",
       "12813                   mobile\n",
       "12814              curated web\n",
       "12815        career management\n",
       "12817                   sports\n",
       "Name: category_list, Length: 12813, dtype: object"
      ]
     },
     "execution_count": 89,
     "metadata": {},
     "output_type": "execute_result"
    }
   ],
   "source": [
    "df.category_list"
   ]
  },
  {
   "cell_type": "markdown",
   "id": "fc54dcfc",
   "metadata": {},
   "source": [
    "### Converting Wide to Long format for df.mapping"
   ]
  },
  {
   "cell_type": "code",
   "execution_count": 90,
   "id": "00fb524a",
   "metadata": {},
   "outputs": [
    {
     "data": {
      "text/html": [
       "<div>\n",
       "<style scoped>\n",
       "    .dataframe tbody tr th:only-of-type {\n",
       "        vertical-align: middle;\n",
       "    }\n",
       "\n",
       "    .dataframe tbody tr th {\n",
       "        vertical-align: top;\n",
       "    }\n",
       "\n",
       "    .dataframe thead th {\n",
       "        text-align: right;\n",
       "    }\n",
       "</style>\n",
       "<table border=\"1\" class=\"dataframe\">\n",
       "  <thead>\n",
       "    <tr style=\"text-align: right;\">\n",
       "      <th></th>\n",
       "      <th>category_list</th>\n",
       "      <th>variable</th>\n",
       "      <th>value</th>\n",
       "    </tr>\n",
       "  </thead>\n",
       "  <tbody>\n",
       "    <tr>\n",
       "      <th>0</th>\n",
       "      <td>3D</td>\n",
       "      <td>Automotive &amp; Sports</td>\n",
       "      <td>0</td>\n",
       "    </tr>\n",
       "    <tr>\n",
       "      <th>1</th>\n",
       "      <td>3D Printing</td>\n",
       "      <td>Automotive &amp; Sports</td>\n",
       "      <td>0</td>\n",
       "    </tr>\n",
       "    <tr>\n",
       "      <th>2</th>\n",
       "      <td>3D Technology</td>\n",
       "      <td>Automotive &amp; Sports</td>\n",
       "      <td>0</td>\n",
       "    </tr>\n",
       "    <tr>\n",
       "      <th>3</th>\n",
       "      <td>Accounting</td>\n",
       "      <td>Automotive &amp; Sports</td>\n",
       "      <td>0</td>\n",
       "    </tr>\n",
       "    <tr>\n",
       "      <th>4</th>\n",
       "      <td>Active Lifestyle</td>\n",
       "      <td>Automotive &amp; Sports</td>\n",
       "      <td>0</td>\n",
       "    </tr>\n",
       "    <tr>\n",
       "      <th>...</th>\n",
       "      <td>...</td>\n",
       "      <td>...</td>\n",
       "      <td>...</td>\n",
       "    </tr>\n",
       "    <tr>\n",
       "      <th>6178</th>\n",
       "      <td>Wholesale</td>\n",
       "      <td>Social, Finance, Analytics, Advertising</td>\n",
       "      <td>0</td>\n",
       "    </tr>\n",
       "    <tr>\n",
       "      <th>6179</th>\n",
       "      <td>Wine And Spirits</td>\n",
       "      <td>Social, Finance, Analytics, Advertising</td>\n",
       "      <td>0</td>\n",
       "    </tr>\n",
       "    <tr>\n",
       "      <th>6180</th>\n",
       "      <td>Wireless</td>\n",
       "      <td>Social, Finance, Analytics, Advertising</td>\n",
       "      <td>0</td>\n",
       "    </tr>\n",
       "    <tr>\n",
       "      <th>6181</th>\n",
       "      <td>Women</td>\n",
       "      <td>Social, Finance, Analytics, Advertising</td>\n",
       "      <td>0</td>\n",
       "    </tr>\n",
       "    <tr>\n",
       "      <th>6182</th>\n",
       "      <td>Young Adults</td>\n",
       "      <td>Social, Finance, Analytics, Advertising</td>\n",
       "      <td>0</td>\n",
       "    </tr>\n",
       "  </tbody>\n",
       "</table>\n",
       "<p>6183 rows × 3 columns</p>\n",
       "</div>"
      ],
      "text/plain": [
       "         category_list                                 variable  value\n",
       "0                   3D                      Automotive & Sports      0\n",
       "1          3D Printing                      Automotive & Sports      0\n",
       "2        3D Technology                      Automotive & Sports      0\n",
       "3           Accounting                      Automotive & Sports      0\n",
       "4     Active Lifestyle                      Automotive & Sports      0\n",
       "...                ...                                      ...    ...\n",
       "6178         Wholesale  Social, Finance, Analytics, Advertising      0\n",
       "6179  Wine And Spirits  Social, Finance, Analytics, Advertising      0\n",
       "6180          Wireless  Social, Finance, Analytics, Advertising      0\n",
       "6181             Women  Social, Finance, Analytics, Advertising      0\n",
       "6182      Young Adults  Social, Finance, Analytics, Advertising      0\n",
       "\n",
       "[6183 rows x 3 columns]"
      ]
     },
     "execution_count": 90,
     "metadata": {},
     "output_type": "execute_result"
    }
   ],
   "source": [
    "df_melted = pd.melt(df_mapping, id_vars=[\"category_list\"], value_vars=df_mapping.columns[1:len(df_mapping)])\n",
    "\n",
    "df_melted"
   ]
  },
  {
   "cell_type": "code",
   "execution_count": 91,
   "id": "0a3061ca",
   "metadata": {},
   "outputs": [],
   "source": [
    "df_melted.value = df_melted.value.replace(0,np.nan)\n",
    "\n",
    "df_melted.value.isna().sum()\n",
    "\n",
    "df_melted.dropna(inplace = True)\n"
   ]
  },
  {
   "cell_type": "markdown",
   "id": "c97665f5",
   "metadata": {},
   "source": [
    "## Merging dataframe with original dataframe "
   ]
  },
  {
   "cell_type": "code",
   "execution_count": 92,
   "id": "97878df7",
   "metadata": {},
   "outputs": [],
   "source": [
    "df_melted.columns = df_melted.columns.str.lower()\n"
   ]
  },
  {
   "cell_type": "code",
   "execution_count": 93,
   "id": "490781bd",
   "metadata": {},
   "outputs": [],
   "source": [
    "df_melted.category_list = df_melted.category_list.str.lower()\n",
    "df.category_list = df.category_list.str.lower()\n"
   ]
  },
  {
   "cell_type": "code",
   "execution_count": 94,
   "id": "c2cabfe0",
   "metadata": {},
   "outputs": [],
   "source": [
    "df = df.merge(df_melted, how = 'inner', on = 'category_list')"
   ]
  },
  {
   "cell_type": "code",
   "execution_count": 95,
   "id": "c18f9b29",
   "metadata": {},
   "outputs": [],
   "source": [
    "#Renaming column varialble to Sector\n",
    "df.rename(columns = {'variable':'sector'}, inplace = True)"
   ]
  },
  {
   "cell_type": "code",
   "execution_count": 96,
   "id": "78c5eeae",
   "metadata": {},
   "outputs": [
    {
     "data": {
      "text/html": [
       "<div>\n",
       "<style scoped>\n",
       "    .dataframe tbody tr th:only-of-type {\n",
       "        vertical-align: middle;\n",
       "    }\n",
       "\n",
       "    .dataframe tbody tr th {\n",
       "        vertical-align: top;\n",
       "    }\n",
       "\n",
       "    .dataframe thead th {\n",
       "        text-align: right;\n",
       "    }\n",
       "</style>\n",
       "<table border=\"1\" class=\"dataframe\">\n",
       "  <thead>\n",
       "    <tr style=\"text-align: right;\">\n",
       "      <th></th>\n",
       "      <th></th>\n",
       "      <th>count</th>\n",
       "      <th>sum</th>\n",
       "    </tr>\n",
       "    <tr>\n",
       "      <th>country_code</th>\n",
       "      <th>sector</th>\n",
       "      <th></th>\n",
       "      <th></th>\n",
       "    </tr>\n",
       "  </thead>\n",
       "  <tbody>\n",
       "    <tr>\n",
       "      <th rowspan=\"8\" valign=\"top\">CAN</th>\n",
       "      <th>Automotive &amp; Sports</th>\n",
       "      <td>3</td>\n",
       "      <td>29.738116</td>\n",
       "    </tr>\n",
       "    <tr>\n",
       "      <th>Cleantech / Semiconductors</th>\n",
       "      <td>125</td>\n",
       "      <td>1179.040423</td>\n",
       "    </tr>\n",
       "    <tr>\n",
       "      <th>Entertainment</th>\n",
       "      <td>17</td>\n",
       "      <td>129.739712</td>\n",
       "    </tr>\n",
       "    <tr>\n",
       "      <th>Health</th>\n",
       "      <td>26</td>\n",
       "      <td>217.588647</td>\n",
       "    </tr>\n",
       "    <tr>\n",
       "      <th>Manufacturing</th>\n",
       "      <td>31</td>\n",
       "      <td>241.133071</td>\n",
       "    </tr>\n",
       "    <tr>\n",
       "      <th>News, Search and Messaging</th>\n",
       "      <td>44</td>\n",
       "      <td>386.750308</td>\n",
       "    </tr>\n",
       "    <tr>\n",
       "      <th>Others</th>\n",
       "      <td>109</td>\n",
       "      <td>936.079979</td>\n",
       "    </tr>\n",
       "    <tr>\n",
       "      <th>Social, Finance, Analytics, Advertising</th>\n",
       "      <td>77</td>\n",
       "      <td>629.811258</td>\n",
       "    </tr>\n",
       "    <tr>\n",
       "      <th rowspan=\"8\" valign=\"top\">IND</th>\n",
       "      <th>Automotive &amp; Sports</th>\n",
       "      <td>7</td>\n",
       "      <td>66.900000</td>\n",
       "    </tr>\n",
       "    <tr>\n",
       "      <th>Cleantech / Semiconductors</th>\n",
       "      <td>15</td>\n",
       "      <td>133.980000</td>\n",
       "    </tr>\n",
       "    <tr>\n",
       "      <th>Entertainment</th>\n",
       "      <td>23</td>\n",
       "      <td>199.330000</td>\n",
       "    </tr>\n",
       "    <tr>\n",
       "      <th>Health</th>\n",
       "      <td>18</td>\n",
       "      <td>163.740000</td>\n",
       "    </tr>\n",
       "    <tr>\n",
       "      <th>Manufacturing</th>\n",
       "      <td>17</td>\n",
       "      <td>151.150000</td>\n",
       "    </tr>\n",
       "    <tr>\n",
       "      <th>News, Search and Messaging</th>\n",
       "      <td>42</td>\n",
       "      <td>374.834545</td>\n",
       "    </tr>\n",
       "    <tr>\n",
       "      <th>Others</th>\n",
       "      <td>83</td>\n",
       "      <td>746.028268</td>\n",
       "    </tr>\n",
       "    <tr>\n",
       "      <th>Social, Finance, Analytics, Advertising</th>\n",
       "      <td>49</td>\n",
       "      <td>416.449550</td>\n",
       "    </tr>\n",
       "    <tr>\n",
       "      <th rowspan=\"2\" valign=\"top\">KEN</th>\n",
       "      <th>Others</th>\n",
       "      <td>2</td>\n",
       "      <td>16.000000</td>\n",
       "    </tr>\n",
       "    <tr>\n",
       "      <th>Social, Finance, Analytics, Advertising</th>\n",
       "      <td>1</td>\n",
       "      <td>12.000000</td>\n",
       "    </tr>\n",
       "    <tr>\n",
       "      <th rowspan=\"2\" valign=\"top\">MYS</th>\n",
       "      <th>Cleantech / Semiconductors</th>\n",
       "      <td>3</td>\n",
       "      <td>19.891547</td>\n",
       "    </tr>\n",
       "    <tr>\n",
       "      <th>Others</th>\n",
       "      <td>3</td>\n",
       "      <td>32.000000</td>\n",
       "    </tr>\n",
       "    <tr>\n",
       "      <th rowspan=\"4\" valign=\"top\">NGA</th>\n",
       "      <th>Entertainment</th>\n",
       "      <td>2</td>\n",
       "      <td>16.000000</td>\n",
       "    </tr>\n",
       "    <tr>\n",
       "      <th>News, Search and Messaging</th>\n",
       "      <td>1</td>\n",
       "      <td>12.000000</td>\n",
       "    </tr>\n",
       "    <tr>\n",
       "      <th>Others</th>\n",
       "      <td>2</td>\n",
       "      <td>20.000000</td>\n",
       "    </tr>\n",
       "    <tr>\n",
       "      <th>Social, Finance, Analytics, Advertising</th>\n",
       "      <td>3</td>\n",
       "      <td>22.000000</td>\n",
       "    </tr>\n",
       "    <tr>\n",
       "      <th rowspan=\"5\" valign=\"top\">NZL</th>\n",
       "      <th>Cleantech / Semiconductors</th>\n",
       "      <td>4</td>\n",
       "      <td>29.172621</td>\n",
       "    </tr>\n",
       "    <tr>\n",
       "      <th>Manufacturing</th>\n",
       "      <td>1</td>\n",
       "      <td>14.000000</td>\n",
       "    </tr>\n",
       "    <tr>\n",
       "      <th>News, Search and Messaging</th>\n",
       "      <td>4</td>\n",
       "      <td>34.000000</td>\n",
       "    </tr>\n",
       "    <tr>\n",
       "      <th>Others</th>\n",
       "      <td>4</td>\n",
       "      <td>30.500000</td>\n",
       "    </tr>\n",
       "    <tr>\n",
       "      <th>Social, Finance, Analytics, Advertising</th>\n",
       "      <td>4</td>\n",
       "      <td>45.595300</td>\n",
       "    </tr>\n",
       "    <tr>\n",
       "      <th rowspan=\"3\" valign=\"top\">PAK</th>\n",
       "      <th>Automotive &amp; Sports</th>\n",
       "      <td>1</td>\n",
       "      <td>5.400000</td>\n",
       "    </tr>\n",
       "    <tr>\n",
       "      <th>News, Search and Messaging</th>\n",
       "      <td>1</td>\n",
       "      <td>6.500000</td>\n",
       "    </tr>\n",
       "    <tr>\n",
       "      <th>Social, Finance, Analytics, Advertising</th>\n",
       "      <td>1</td>\n",
       "      <td>6.500000</td>\n",
       "    </tr>\n",
       "    <tr>\n",
       "      <th rowspan=\"2\" valign=\"top\">PHL</th>\n",
       "      <th>Cleantech / Semiconductors</th>\n",
       "      <td>1</td>\n",
       "      <td>7.800000</td>\n",
       "    </tr>\n",
       "    <tr>\n",
       "      <th>Social, Finance, Analytics, Advertising</th>\n",
       "      <td>1</td>\n",
       "      <td>10.000000</td>\n",
       "    </tr>\n",
       "    <tr>\n",
       "      <th rowspan=\"8\" valign=\"top\">SGP</th>\n",
       "      <th>Automotive &amp; Sports</th>\n",
       "      <td>2</td>\n",
       "      <td>13.700000</td>\n",
       "    </tr>\n",
       "    <tr>\n",
       "      <th>Cleantech / Semiconductors</th>\n",
       "      <td>8</td>\n",
       "      <td>69.343144</td>\n",
       "    </tr>\n",
       "    <tr>\n",
       "      <th>Entertainment</th>\n",
       "      <td>9</td>\n",
       "      <td>84.907000</td>\n",
       "    </tr>\n",
       "    <tr>\n",
       "      <th>Health</th>\n",
       "      <td>3</td>\n",
       "      <td>24.600000</td>\n",
       "    </tr>\n",
       "    <tr>\n",
       "      <th>Manufacturing</th>\n",
       "      <td>1</td>\n",
       "      <td>5.600000</td>\n",
       "    </tr>\n",
       "    <tr>\n",
       "      <th>News, Search and Messaging</th>\n",
       "      <td>8</td>\n",
       "      <td>68.893834</td>\n",
       "    </tr>\n",
       "    <tr>\n",
       "      <th>Others</th>\n",
       "      <td>13</td>\n",
       "      <td>121.700000</td>\n",
       "    </tr>\n",
       "    <tr>\n",
       "      <th>Social, Finance, Analytics, Advertising</th>\n",
       "      <td>20</td>\n",
       "      <td>178.187192</td>\n",
       "    </tr>\n",
       "    <tr>\n",
       "      <th rowspan=\"8\" valign=\"top\">USA</th>\n",
       "      <th>Automotive &amp; Sports</th>\n",
       "      <td>182</td>\n",
       "      <td>1586.665072</td>\n",
       "    </tr>\n",
       "    <tr>\n",
       "      <th>Cleantech / Semiconductors</th>\n",
       "      <td>2486</td>\n",
       "      <td>22550.305980</td>\n",
       "    </tr>\n",
       "    <tr>\n",
       "      <th>Entertainment</th>\n",
       "      <td>570</td>\n",
       "      <td>4925.871509</td>\n",
       "    </tr>\n",
       "    <tr>\n",
       "      <th>Health</th>\n",
       "      <td>976</td>\n",
       "      <td>8774.216466</td>\n",
       "    </tr>\n",
       "    <tr>\n",
       "      <th>Manufacturing</th>\n",
       "      <td>828</td>\n",
       "      <td>7435.901694</td>\n",
       "    </tr>\n",
       "    <tr>\n",
       "      <th>News, Search and Messaging</th>\n",
       "      <td>1462</td>\n",
       "      <td>12762.629667</td>\n",
       "    </tr>\n",
       "    <tr>\n",
       "      <th>Others</th>\n",
       "      <td>2829</td>\n",
       "      <td>25180.493337</td>\n",
       "    </tr>\n",
       "    <tr>\n",
       "      <th>Social, Finance, Analytics, Advertising</th>\n",
       "      <td>2535</td>\n",
       "      <td>22081.399023</td>\n",
       "    </tr>\n",
       "  </tbody>\n",
       "</table>\n",
       "</div>"
      ],
      "text/plain": [
       "                                                      count           sum\n",
       "country_code sector                                                      \n",
       "CAN          Automotive & Sports                          3     29.738116\n",
       "             Cleantech / Semiconductors                 125   1179.040423\n",
       "             Entertainment                               17    129.739712\n",
       "             Health                                      26    217.588647\n",
       "             Manufacturing                               31    241.133071\n",
       "             News, Search and Messaging                  44    386.750308\n",
       "             Others                                     109    936.079979\n",
       "             Social, Finance, Analytics, Advertising     77    629.811258\n",
       "IND          Automotive & Sports                          7     66.900000\n",
       "             Cleantech / Semiconductors                  15    133.980000\n",
       "             Entertainment                               23    199.330000\n",
       "             Health                                      18    163.740000\n",
       "             Manufacturing                               17    151.150000\n",
       "             News, Search and Messaging                  42    374.834545\n",
       "             Others                                      83    746.028268\n",
       "             Social, Finance, Analytics, Advertising     49    416.449550\n",
       "KEN          Others                                       2     16.000000\n",
       "             Social, Finance, Analytics, Advertising      1     12.000000\n",
       "MYS          Cleantech / Semiconductors                   3     19.891547\n",
       "             Others                                       3     32.000000\n",
       "NGA          Entertainment                                2     16.000000\n",
       "             News, Search and Messaging                   1     12.000000\n",
       "             Others                                       2     20.000000\n",
       "             Social, Finance, Analytics, Advertising      3     22.000000\n",
       "NZL          Cleantech / Semiconductors                   4     29.172621\n",
       "             Manufacturing                                1     14.000000\n",
       "             News, Search and Messaging                   4     34.000000\n",
       "             Others                                       4     30.500000\n",
       "             Social, Finance, Analytics, Advertising      4     45.595300\n",
       "PAK          Automotive & Sports                          1      5.400000\n",
       "             News, Search and Messaging                   1      6.500000\n",
       "             Social, Finance, Analytics, Advertising      1      6.500000\n",
       "PHL          Cleantech / Semiconductors                   1      7.800000\n",
       "             Social, Finance, Analytics, Advertising      1     10.000000\n",
       "SGP          Automotive & Sports                          2     13.700000\n",
       "             Cleantech / Semiconductors                   8     69.343144\n",
       "             Entertainment                                9     84.907000\n",
       "             Health                                       3     24.600000\n",
       "             Manufacturing                                1      5.600000\n",
       "             News, Search and Messaging                   8     68.893834\n",
       "             Others                                      13    121.700000\n",
       "             Social, Finance, Analytics, Advertising     20    178.187192\n",
       "USA          Automotive & Sports                        182   1586.665072\n",
       "             Cleantech / Semiconductors                2486  22550.305980\n",
       "             Entertainment                              570   4925.871509\n",
       "             Health                                     976   8774.216466\n",
       "             Manufacturing                              828   7435.901694\n",
       "             News, Search and Messaging                1462  12762.629667\n",
       "             Others                                    2829  25180.493337\n",
       "             Social, Finance, Analytics, Advertising   2535  22081.399023"
      ]
     },
     "execution_count": 96,
     "metadata": {},
     "output_type": "execute_result"
    }
   ],
   "source": [
    "df.groupby(['country_code', 'sector']).raised_amount_usd.agg(['count', 'sum'])"
   ]
  },
  {
   "cell_type": "code",
   "execution_count": 97,
   "id": "a7bcbf9f",
   "metadata": {},
   "outputs": [
    {
     "data": {
      "image/png": "[encoded data removed]",
      "text/plain": [
       "<Figure size 1600x1400 with 2 Axes>"
      ]
     },
     "metadata": {},
     "output_type": "display_data"
    }
   ],
   "source": [
    "###PLot\n",
    "\n",
    "plt.figure(figsize=(16, 14))\n",
    "\n",
    "plt.subplot(2, 1, 1)\n",
    "p = sns.barplot(x='sector', y='raised_amount_usd', hue='country_code', data=df[(df.country_code == 'IND') | (df.country_code == 'CAN') | (df.country_code == 'SGP')], estimator=np.sum)\n",
    "p.set_xticklabels(p.get_xticklabels(),rotation=30)\n",
    "plt.title('Total Invested Amount (USD)')\n",
    "\n",
    "plt.subplot(2, 1, 2)\n",
    "q = sns.countplot(x='sector', hue='country_code', data=df[(df.country_code == 'IND') | (df.country_code == 'CAN') | (df.country_code == 'SGP')])\n",
    "q.set_xticklabels(q.get_xticklabels(),rotation=30)\n",
    "plt.title('Number of Investments')\n",
    "\n",
    "\n",
    "plt.show()"
   ]
  },
  {
   "cell_type": "markdown",
   "id": "ab8f04ab",
   "metadata": {},
   "source": [
    "# Conclusion:\n",
    "\n",
    "## 1. Venture fund has highest investment among all\n",
    "## 2. USA > Canada > India > Singapore in terms of investment destination based on volume of investment\n",
    "## 3. USA Has highest investment in all categories, but except USA\n",
    "    # Except Semi conductor, India's performance is competitive with Canada and even better than tax haven Singapore. \n",
    "        "
   ]
  }
 ],
 "metadata": {
  "kernelspec": {
   "display_name": "Python 3 (ipykernel)",
   "language": "python",
   "name": "python3"
  },
  "language_info": {
   "codemirror_mode": {
    "name": "ipython",
    "version": 3
   },
   "file_extension": ".py",
   "mimetype": "text/x-python",
   "name": "python",
   "nbconvert_exporter": "python",
   "pygments_lexer": "ipython3",
   "version": "3.10.4"
  }
 },
 "nbformat": 4,
 "nbformat_minor": 5
}
